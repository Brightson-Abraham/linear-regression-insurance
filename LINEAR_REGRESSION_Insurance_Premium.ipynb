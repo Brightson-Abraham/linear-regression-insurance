{
  "cells": [
    {
      "cell_type": "markdown",
      "metadata": {
        "id": "view-in-github",
        "colab_type": "text"
      },
      "source": [
        "<a href=\"https://colab.research.google.com/github/Brightson-Abraham/linear-regression-insurance/blob/main/LINEAR_REGRESSION_Insurance_Premium.ipynb\" target=\"_parent\"><img src=\"https://colab.research.google.com/assets/colab-badge.svg\" alt=\"Open In Colab\"/></a>"
      ]
    },
    {
      "cell_type": "markdown",
      "id": "18d98252",
      "metadata": {
        "id": "18d98252"
      },
      "source": [
        "# Problem Statement\n",
        "Insurance premiums are often based on various factors that in the end decide the amount that will be covered from the insurance company.\n",
        "As a data analyst/scientist you are given a set of historical data for an organizations customers and the respective charges that were levied upon the insurance company.\n",
        "\n",
        "\n",
        "The objective of proposed work is to predict the insurance charges of a person and\n",
        "identify those patients with health insurance policy and medical details weather they\n",
        "have any health issues or not.\n",
        "\n",
        "The data gives you the information about the users including their age, sex, bmi, hospitalization history, annual income, etc. Analyze and gather insights fron the data and create a linear regression model that will best predict the insurance charges for a new set of data.\n",
        "\n",
        "This kind of model is\n",
        "useful for insurance\n",
        "companies to determine\n",
        "the yearly insurance\n",
        "premium charges for a\n",
        "person"
      ]
    },
    {
      "cell_type": "code",
      "execution_count": null,
      "id": "d06f9e08",
      "metadata": {
        "id": "d06f9e08"
      },
      "outputs": [],
      "source": [
        "1.Import all the required libraries\n",
        "2. DAta loading\n",
        "3.. EDA - Exploratory Data Analysis -\n",
        "i) Treating null values ii)Duplicate values iii)Outliers iv)Multicolliniarity (VIF)\n",
        "4. Visulaize the data\n",
        "5. Feature selection - x(independent features) y(dependent features)\n",
        "6. Model creation"
      ]
    },
    {
      "cell_type": "code",
      "execution_count": null,
      "id": "7ca5252a",
      "metadata": {
        "id": "7ca5252a"
      },
      "outputs": [],
      "source": [
        "#Import all the required libraries\n",
        "import pandas as pd\n",
        "import numpy as np\n",
        "import matplotlib.pyplot as plt"
      ]
    },
    {
      "cell_type": "code",
      "execution_count": null,
      "id": "faee88a4",
      "metadata": {
        "id": "faee88a4",
        "outputId": "0677ab7c-46cf-495d-ca4d-f6a64c8b8797"
      },
      "outputs": [
        {
          "data": {
            "text/html": [
              "<div>\n",
              "<style scoped>\n",
              "    .dataframe tbody tr th:only-of-type {\n",
              "        vertical-align: middle;\n",
              "    }\n",
              "\n",
              "    .dataframe tbody tr th {\n",
              "        vertical-align: top;\n",
              "    }\n",
              "\n",
              "    .dataframe thead th {\n",
              "        text-align: right;\n",
              "    }\n",
              "</style>\n",
              "<table border=\"1\" class=\"dataframe\">\n",
              "  <thead>\n",
              "    <tr style=\"text-align: right;\">\n",
              "      <th></th>\n",
              "      <th>age</th>\n",
              "      <th>sex</th>\n",
              "      <th>bmi</th>\n",
              "      <th>children</th>\n",
              "      <th>smoker</th>\n",
              "      <th>Claim_Amount</th>\n",
              "      <th>past_consultations</th>\n",
              "      <th>num_of_steps</th>\n",
              "      <th>Hospital_expenditure</th>\n",
              "      <th>NUmber_of_past_hospitalizations</th>\n",
              "      <th>Anual_Salary</th>\n",
              "      <th>region</th>\n",
              "      <th>charges</th>\n",
              "    </tr>\n",
              "  </thead>\n",
              "  <tbody>\n",
              "    <tr>\n",
              "      <th>0</th>\n",
              "      <td>18.0</td>\n",
              "      <td>male</td>\n",
              "      <td>23.210</td>\n",
              "      <td>0.0</td>\n",
              "      <td>no</td>\n",
              "      <td>29087.54313</td>\n",
              "      <td>17.0</td>\n",
              "      <td>715428.0</td>\n",
              "      <td>4.720921e+06</td>\n",
              "      <td>0.0</td>\n",
              "      <td>5.578497e+07</td>\n",
              "      <td>southeast</td>\n",
              "      <td>1121.87390</td>\n",
              "    </tr>\n",
              "    <tr>\n",
              "      <th>1</th>\n",
              "      <td>18.0</td>\n",
              "      <td>male</td>\n",
              "      <td>30.140</td>\n",
              "      <td>0.0</td>\n",
              "      <td>no</td>\n",
              "      <td>39053.67437</td>\n",
              "      <td>7.0</td>\n",
              "      <td>699157.0</td>\n",
              "      <td>4.329832e+06</td>\n",
              "      <td>0.0</td>\n",
              "      <td>1.370089e+07</td>\n",
              "      <td>southeast</td>\n",
              "      <td>1131.50660</td>\n",
              "    </tr>\n",
              "    <tr>\n",
              "      <th>2</th>\n",
              "      <td>18.0</td>\n",
              "      <td>male</td>\n",
              "      <td>33.330</td>\n",
              "      <td>0.0</td>\n",
              "      <td>no</td>\n",
              "      <td>39023.62759</td>\n",
              "      <td>19.0</td>\n",
              "      <td>702341.0</td>\n",
              "      <td>6.884861e+06</td>\n",
              "      <td>0.0</td>\n",
              "      <td>7.352311e+07</td>\n",
              "      <td>southeast</td>\n",
              "      <td>1135.94070</td>\n",
              "    </tr>\n",
              "    <tr>\n",
              "      <th>3</th>\n",
              "      <td>18.0</td>\n",
              "      <td>male</td>\n",
              "      <td>33.660</td>\n",
              "      <td>0.0</td>\n",
              "      <td>no</td>\n",
              "      <td>28185.39332</td>\n",
              "      <td>11.0</td>\n",
              "      <td>700250.0</td>\n",
              "      <td>4.274774e+06</td>\n",
              "      <td>0.0</td>\n",
              "      <td>7.581968e+07</td>\n",
              "      <td>southeast</td>\n",
              "      <td>1136.39940</td>\n",
              "    </tr>\n",
              "    <tr>\n",
              "      <th>4</th>\n",
              "      <td>18.0</td>\n",
              "      <td>male</td>\n",
              "      <td>34.100</td>\n",
              "      <td>0.0</td>\n",
              "      <td>no</td>\n",
              "      <td>14697.85941</td>\n",
              "      <td>16.0</td>\n",
              "      <td>711584.0</td>\n",
              "      <td>3.787294e+06</td>\n",
              "      <td>0.0</td>\n",
              "      <td>2.301232e+07</td>\n",
              "      <td>southeast</td>\n",
              "      <td>1137.01100</td>\n",
              "    </tr>\n",
              "    <tr>\n",
              "      <th>...</th>\n",
              "      <td>...</td>\n",
              "      <td>...</td>\n",
              "      <td>...</td>\n",
              "      <td>...</td>\n",
              "      <td>...</td>\n",
              "      <td>...</td>\n",
              "      <td>...</td>\n",
              "      <td>...</td>\n",
              "      <td>...</td>\n",
              "      <td>...</td>\n",
              "      <td>...</td>\n",
              "      <td>...</td>\n",
              "      <td>...</td>\n",
              "    </tr>\n",
              "    <tr>\n",
              "      <th>1333</th>\n",
              "      <td>33.0</td>\n",
              "      <td>female</td>\n",
              "      <td>35.530</td>\n",
              "      <td>0.0</td>\n",
              "      <td>yes</td>\n",
              "      <td>63142.25346</td>\n",
              "      <td>32.0</td>\n",
              "      <td>1091267.0</td>\n",
              "      <td>1.703805e+08</td>\n",
              "      <td>2.0</td>\n",
              "      <td>3.101107e+09</td>\n",
              "      <td>northwest</td>\n",
              "      <td>55135.40209</td>\n",
              "    </tr>\n",
              "    <tr>\n",
              "      <th>1334</th>\n",
              "      <td>31.0</td>\n",
              "      <td>female</td>\n",
              "      <td>38.095</td>\n",
              "      <td>1.0</td>\n",
              "      <td>yes</td>\n",
              "      <td>43419.95227</td>\n",
              "      <td>31.0</td>\n",
              "      <td>1107872.0</td>\n",
              "      <td>2.015152e+08</td>\n",
              "      <td>2.0</td>\n",
              "      <td>3.484216e+09</td>\n",
              "      <td>northeast</td>\n",
              "      <td>58571.07448</td>\n",
              "    </tr>\n",
              "    <tr>\n",
              "      <th>1335</th>\n",
              "      <td>52.0</td>\n",
              "      <td>male</td>\n",
              "      <td>34.485</td>\n",
              "      <td>3.0</td>\n",
              "      <td>yes</td>\n",
              "      <td>52458.92353</td>\n",
              "      <td>25.0</td>\n",
              "      <td>1092005.0</td>\n",
              "      <td>2.236450e+08</td>\n",
              "      <td>2.0</td>\n",
              "      <td>3.640807e+09</td>\n",
              "      <td>northwest</td>\n",
              "      <td>60021.39897</td>\n",
              "    </tr>\n",
              "    <tr>\n",
              "      <th>1336</th>\n",
              "      <td>45.0</td>\n",
              "      <td>male</td>\n",
              "      <td>30.360</td>\n",
              "      <td>0.0</td>\n",
              "      <td>yes</td>\n",
              "      <td>69927.51664</td>\n",
              "      <td>34.0</td>\n",
              "      <td>1106821.0</td>\n",
              "      <td>2.528924e+08</td>\n",
              "      <td>3.0</td>\n",
              "      <td>4.006359e+09</td>\n",
              "      <td>southeast</td>\n",
              "      <td>62592.87309</td>\n",
              "    </tr>\n",
              "    <tr>\n",
              "      <th>1337</th>\n",
              "      <td>54.0</td>\n",
              "      <td>female</td>\n",
              "      <td>47.410</td>\n",
              "      <td>0.0</td>\n",
              "      <td>yes</td>\n",
              "      <td>63982.80926</td>\n",
              "      <td>31.0</td>\n",
              "      <td>1100328.0</td>\n",
              "      <td>2.616317e+08</td>\n",
              "      <td>3.0</td>\n",
              "      <td>4.117197e+09</td>\n",
              "      <td>southeast</td>\n",
              "      <td>63770.42801</td>\n",
              "    </tr>\n",
              "  </tbody>\n",
              "</table>\n",
              "<p>1338 rows × 13 columns</p>\n",
              "</div>"
            ],
            "text/plain": [
              "       age     sex     bmi  children smoker  Claim_Amount  past_consultations  \\\n",
              "0     18.0    male  23.210       0.0     no   29087.54313                17.0   \n",
              "1     18.0    male  30.140       0.0     no   39053.67437                 7.0   \n",
              "2     18.0    male  33.330       0.0     no   39023.62759                19.0   \n",
              "3     18.0    male  33.660       0.0     no   28185.39332                11.0   \n",
              "4     18.0    male  34.100       0.0     no   14697.85941                16.0   \n",
              "...    ...     ...     ...       ...    ...           ...                 ...   \n",
              "1333  33.0  female  35.530       0.0    yes   63142.25346                32.0   \n",
              "1334  31.0  female  38.095       1.0    yes   43419.95227                31.0   \n",
              "1335  52.0    male  34.485       3.0    yes   52458.92353                25.0   \n",
              "1336  45.0    male  30.360       0.0    yes   69927.51664                34.0   \n",
              "1337  54.0  female  47.410       0.0    yes   63982.80926                31.0   \n",
              "\n",
              "      num_of_steps  Hospital_expenditure  NUmber_of_past_hospitalizations  \\\n",
              "0         715428.0          4.720921e+06                              0.0   \n",
              "1         699157.0          4.329832e+06                              0.0   \n",
              "2         702341.0          6.884861e+06                              0.0   \n",
              "3         700250.0          4.274774e+06                              0.0   \n",
              "4         711584.0          3.787294e+06                              0.0   \n",
              "...            ...                   ...                              ...   \n",
              "1333     1091267.0          1.703805e+08                              2.0   \n",
              "1334     1107872.0          2.015152e+08                              2.0   \n",
              "1335     1092005.0          2.236450e+08                              2.0   \n",
              "1336     1106821.0          2.528924e+08                              3.0   \n",
              "1337     1100328.0          2.616317e+08                              3.0   \n",
              "\n",
              "      Anual_Salary     region      charges  \n",
              "0     5.578497e+07  southeast   1121.87390  \n",
              "1     1.370089e+07  southeast   1131.50660  \n",
              "2     7.352311e+07  southeast   1135.94070  \n",
              "3     7.581968e+07  southeast   1136.39940  \n",
              "4     2.301232e+07  southeast   1137.01100  \n",
              "...            ...        ...          ...  \n",
              "1333  3.101107e+09  northwest  55135.40209  \n",
              "1334  3.484216e+09  northeast  58571.07448  \n",
              "1335  3.640807e+09  northwest  60021.39897  \n",
              "1336  4.006359e+09  southeast  62592.87309  \n",
              "1337  4.117197e+09  southeast  63770.42801  \n",
              "\n",
              "[1338 rows x 13 columns]"
            ]
          },
          "execution_count": 3,
          "metadata": {},
          "output_type": "execute_result"
        }
      ],
      "source": [
        "#import the data\n",
        "df = pd.read_csv(\"new_insurance_data (7).csv\")\n",
        "df"
      ]
    },
    {
      "cell_type": "code",
      "execution_count": null,
      "id": "6eaec087",
      "metadata": {
        "id": "6eaec087",
        "outputId": "1a951ff9-1059-45b5-a5f8-2c09469a966d"
      },
      "outputs": [
        {
          "data": {
            "text/html": [
              "<div>\n",
              "<style scoped>\n",
              "    .dataframe tbody tr th:only-of-type {\n",
              "        vertical-align: middle;\n",
              "    }\n",
              "\n",
              "    .dataframe tbody tr th {\n",
              "        vertical-align: top;\n",
              "    }\n",
              "\n",
              "    .dataframe thead th {\n",
              "        text-align: right;\n",
              "    }\n",
              "</style>\n",
              "<table border=\"1\" class=\"dataframe\">\n",
              "  <thead>\n",
              "    <tr style=\"text-align: right;\">\n",
              "      <th></th>\n",
              "      <th>age</th>\n",
              "      <th>sex</th>\n",
              "      <th>bmi</th>\n",
              "      <th>children</th>\n",
              "      <th>smoker</th>\n",
              "      <th>Claim_Amount</th>\n",
              "      <th>past_consultations</th>\n",
              "      <th>num_of_steps</th>\n",
              "      <th>Hospital_expenditure</th>\n",
              "      <th>NUmber_of_past_hospitalizations</th>\n",
              "      <th>Anual_Salary</th>\n",
              "      <th>region</th>\n",
              "      <th>charges</th>\n",
              "    </tr>\n",
              "  </thead>\n",
              "  <tbody>\n",
              "    <tr>\n",
              "      <th>0</th>\n",
              "      <td>18.0</td>\n",
              "      <td>male</td>\n",
              "      <td>23.21</td>\n",
              "      <td>0.0</td>\n",
              "      <td>no</td>\n",
              "      <td>29087.54313</td>\n",
              "      <td>17.0</td>\n",
              "      <td>715428.0</td>\n",
              "      <td>4720920.992</td>\n",
              "      <td>0.0</td>\n",
              "      <td>55784970.05</td>\n",
              "      <td>southeast</td>\n",
              "      <td>1121.8739</td>\n",
              "    </tr>\n",
              "    <tr>\n",
              "      <th>1</th>\n",
              "      <td>18.0</td>\n",
              "      <td>male</td>\n",
              "      <td>30.14</td>\n",
              "      <td>0.0</td>\n",
              "      <td>no</td>\n",
              "      <td>39053.67437</td>\n",
              "      <td>7.0</td>\n",
              "      <td>699157.0</td>\n",
              "      <td>4329831.676</td>\n",
              "      <td>0.0</td>\n",
              "      <td>13700885.19</td>\n",
              "      <td>southeast</td>\n",
              "      <td>1131.5066</td>\n",
              "    </tr>\n",
              "    <tr>\n",
              "      <th>2</th>\n",
              "      <td>18.0</td>\n",
              "      <td>male</td>\n",
              "      <td>33.33</td>\n",
              "      <td>0.0</td>\n",
              "      <td>no</td>\n",
              "      <td>39023.62759</td>\n",
              "      <td>19.0</td>\n",
              "      <td>702341.0</td>\n",
              "      <td>6884860.774</td>\n",
              "      <td>0.0</td>\n",
              "      <td>73523107.27</td>\n",
              "      <td>southeast</td>\n",
              "      <td>1135.9407</td>\n",
              "    </tr>\n",
              "    <tr>\n",
              "      <th>3</th>\n",
              "      <td>18.0</td>\n",
              "      <td>male</td>\n",
              "      <td>33.66</td>\n",
              "      <td>0.0</td>\n",
              "      <td>no</td>\n",
              "      <td>28185.39332</td>\n",
              "      <td>11.0</td>\n",
              "      <td>700250.0</td>\n",
              "      <td>4274773.550</td>\n",
              "      <td>0.0</td>\n",
              "      <td>75819679.60</td>\n",
              "      <td>southeast</td>\n",
              "      <td>1136.3994</td>\n",
              "    </tr>\n",
              "    <tr>\n",
              "      <th>4</th>\n",
              "      <td>18.0</td>\n",
              "      <td>male</td>\n",
              "      <td>34.10</td>\n",
              "      <td>0.0</td>\n",
              "      <td>no</td>\n",
              "      <td>14697.85941</td>\n",
              "      <td>16.0</td>\n",
              "      <td>711584.0</td>\n",
              "      <td>3787293.921</td>\n",
              "      <td>0.0</td>\n",
              "      <td>23012320.01</td>\n",
              "      <td>southeast</td>\n",
              "      <td>1137.0110</td>\n",
              "    </tr>\n",
              "  </tbody>\n",
              "</table>\n",
              "</div>"
            ],
            "text/plain": [
              "    age   sex    bmi  children smoker  Claim_Amount  past_consultations  \\\n",
              "0  18.0  male  23.21       0.0     no   29087.54313                17.0   \n",
              "1  18.0  male  30.14       0.0     no   39053.67437                 7.0   \n",
              "2  18.0  male  33.33       0.0     no   39023.62759                19.0   \n",
              "3  18.0  male  33.66       0.0     no   28185.39332                11.0   \n",
              "4  18.0  male  34.10       0.0     no   14697.85941                16.0   \n",
              "\n",
              "   num_of_steps  Hospital_expenditure  NUmber_of_past_hospitalizations  \\\n",
              "0      715428.0           4720920.992                              0.0   \n",
              "1      699157.0           4329831.676                              0.0   \n",
              "2      702341.0           6884860.774                              0.0   \n",
              "3      700250.0           4274773.550                              0.0   \n",
              "4      711584.0           3787293.921                              0.0   \n",
              "\n",
              "   Anual_Salary     region    charges  \n",
              "0   55784970.05  southeast  1121.8739  \n",
              "1   13700885.19  southeast  1131.5066  \n",
              "2   73523107.27  southeast  1135.9407  \n",
              "3   75819679.60  southeast  1136.3994  \n",
              "4   23012320.01  southeast  1137.0110  "
            ]
          },
          "execution_count": 4,
          "metadata": {},
          "output_type": "execute_result"
        }
      ],
      "source": [
        "df.head()"
      ]
    },
    {
      "cell_type": "code",
      "execution_count": null,
      "id": "7cb15dcc",
      "metadata": {
        "id": "7cb15dcc",
        "outputId": "a67c5193-602b-49eb-96e6-1f3dbd44965a"
      },
      "outputs": [
        {
          "data": {
            "text/html": [
              "<div>\n",
              "<style scoped>\n",
              "    .dataframe tbody tr th:only-of-type {\n",
              "        vertical-align: middle;\n",
              "    }\n",
              "\n",
              "    .dataframe tbody tr th {\n",
              "        vertical-align: top;\n",
              "    }\n",
              "\n",
              "    .dataframe thead th {\n",
              "        text-align: right;\n",
              "    }\n",
              "</style>\n",
              "<table border=\"1\" class=\"dataframe\">\n",
              "  <thead>\n",
              "    <tr style=\"text-align: right;\">\n",
              "      <th></th>\n",
              "      <th>age</th>\n",
              "      <th>sex</th>\n",
              "      <th>bmi</th>\n",
              "      <th>children</th>\n",
              "      <th>smoker</th>\n",
              "      <th>Claim_Amount</th>\n",
              "      <th>past_consultations</th>\n",
              "      <th>num_of_steps</th>\n",
              "      <th>Hospital_expenditure</th>\n",
              "      <th>NUmber_of_past_hospitalizations</th>\n",
              "      <th>Anual_Salary</th>\n",
              "      <th>region</th>\n",
              "      <th>charges</th>\n",
              "    </tr>\n",
              "  </thead>\n",
              "  <tbody>\n",
              "    <tr>\n",
              "      <th>1333</th>\n",
              "      <td>33.0</td>\n",
              "      <td>female</td>\n",
              "      <td>35.530</td>\n",
              "      <td>0.0</td>\n",
              "      <td>yes</td>\n",
              "      <td>63142.25346</td>\n",
              "      <td>32.0</td>\n",
              "      <td>1091267.0</td>\n",
              "      <td>170380500.5</td>\n",
              "      <td>2.0</td>\n",
              "      <td>3.101107e+09</td>\n",
              "      <td>northwest</td>\n",
              "      <td>55135.40209</td>\n",
              "    </tr>\n",
              "    <tr>\n",
              "      <th>1334</th>\n",
              "      <td>31.0</td>\n",
              "      <td>female</td>\n",
              "      <td>38.095</td>\n",
              "      <td>1.0</td>\n",
              "      <td>yes</td>\n",
              "      <td>43419.95227</td>\n",
              "      <td>31.0</td>\n",
              "      <td>1107872.0</td>\n",
              "      <td>201515184.8</td>\n",
              "      <td>2.0</td>\n",
              "      <td>3.484216e+09</td>\n",
              "      <td>northeast</td>\n",
              "      <td>58571.07448</td>\n",
              "    </tr>\n",
              "    <tr>\n",
              "      <th>1335</th>\n",
              "      <td>52.0</td>\n",
              "      <td>male</td>\n",
              "      <td>34.485</td>\n",
              "      <td>3.0</td>\n",
              "      <td>yes</td>\n",
              "      <td>52458.92353</td>\n",
              "      <td>25.0</td>\n",
              "      <td>1092005.0</td>\n",
              "      <td>223644981.3</td>\n",
              "      <td>2.0</td>\n",
              "      <td>3.640807e+09</td>\n",
              "      <td>northwest</td>\n",
              "      <td>60021.39897</td>\n",
              "    </tr>\n",
              "    <tr>\n",
              "      <th>1336</th>\n",
              "      <td>45.0</td>\n",
              "      <td>male</td>\n",
              "      <td>30.360</td>\n",
              "      <td>0.0</td>\n",
              "      <td>yes</td>\n",
              "      <td>69927.51664</td>\n",
              "      <td>34.0</td>\n",
              "      <td>1106821.0</td>\n",
              "      <td>252892382.6</td>\n",
              "      <td>3.0</td>\n",
              "      <td>4.006359e+09</td>\n",
              "      <td>southeast</td>\n",
              "      <td>62592.87309</td>\n",
              "    </tr>\n",
              "    <tr>\n",
              "      <th>1337</th>\n",
              "      <td>54.0</td>\n",
              "      <td>female</td>\n",
              "      <td>47.410</td>\n",
              "      <td>0.0</td>\n",
              "      <td>yes</td>\n",
              "      <td>63982.80926</td>\n",
              "      <td>31.0</td>\n",
              "      <td>1100328.0</td>\n",
              "      <td>261631699.3</td>\n",
              "      <td>3.0</td>\n",
              "      <td>4.117197e+09</td>\n",
              "      <td>southeast</td>\n",
              "      <td>63770.42801</td>\n",
              "    </tr>\n",
              "  </tbody>\n",
              "</table>\n",
              "</div>"
            ],
            "text/plain": [
              "       age     sex     bmi  children smoker  Claim_Amount  past_consultations  \\\n",
              "1333  33.0  female  35.530       0.0    yes   63142.25346                32.0   \n",
              "1334  31.0  female  38.095       1.0    yes   43419.95227                31.0   \n",
              "1335  52.0    male  34.485       3.0    yes   52458.92353                25.0   \n",
              "1336  45.0    male  30.360       0.0    yes   69927.51664                34.0   \n",
              "1337  54.0  female  47.410       0.0    yes   63982.80926                31.0   \n",
              "\n",
              "      num_of_steps  Hospital_expenditure  NUmber_of_past_hospitalizations  \\\n",
              "1333     1091267.0           170380500.5                              2.0   \n",
              "1334     1107872.0           201515184.8                              2.0   \n",
              "1335     1092005.0           223644981.3                              2.0   \n",
              "1336     1106821.0           252892382.6                              3.0   \n",
              "1337     1100328.0           261631699.3                              3.0   \n",
              "\n",
              "      Anual_Salary     region      charges  \n",
              "1333  3.101107e+09  northwest  55135.40209  \n",
              "1334  3.484216e+09  northeast  58571.07448  \n",
              "1335  3.640807e+09  northwest  60021.39897  \n",
              "1336  4.006359e+09  southeast  62592.87309  \n",
              "1337  4.117197e+09  southeast  63770.42801  "
            ]
          },
          "execution_count": 5,
          "metadata": {},
          "output_type": "execute_result"
        }
      ],
      "source": [
        "df.tail()"
      ]
    },
    {
      "cell_type": "code",
      "execution_count": null,
      "id": "7488b89a",
      "metadata": {
        "id": "7488b89a",
        "outputId": "b961f2e0-54e1-4270-c582-c31b5c3dfe79"
      },
      "outputs": [
        {
          "data": {
            "text/plain": [
              "(1338, 13)"
            ]
          },
          "execution_count": 6,
          "metadata": {},
          "output_type": "execute_result"
        }
      ],
      "source": [
        "df.shape"
      ]
    },
    {
      "cell_type": "code",
      "execution_count": null,
      "id": "a137d306",
      "metadata": {
        "id": "a137d306",
        "outputId": "89409b84-0c99-4ba7-ef07-5024f7c4e93f"
      },
      "outputs": [
        {
          "name": "stdout",
          "output_type": "stream",
          "text": [
            "<class 'pandas.core.frame.DataFrame'>\n",
            "RangeIndex: 1338 entries, 0 to 1337\n",
            "Data columns (total 13 columns):\n",
            " #   Column                           Non-Null Count  Dtype  \n",
            "---  ------                           --------------  -----  \n",
            " 0   age                              1329 non-null   float64\n",
            " 1   sex                              1338 non-null   object \n",
            " 2   bmi                              1335 non-null   float64\n",
            " 3   children                         1333 non-null   float64\n",
            " 4   smoker                           1338 non-null   object \n",
            " 5   Claim_Amount                     1324 non-null   float64\n",
            " 6   past_consultations               1332 non-null   float64\n",
            " 7   num_of_steps                     1335 non-null   float64\n",
            " 8   Hospital_expenditure             1334 non-null   float64\n",
            " 9   NUmber_of_past_hospitalizations  1336 non-null   float64\n",
            " 10  Anual_Salary                     1332 non-null   float64\n",
            " 11  region                           1338 non-null   object \n",
            " 12  charges                          1338 non-null   float64\n",
            "dtypes: float64(10), object(3)\n",
            "memory usage: 136.0+ KB\n"
          ]
        }
      ],
      "source": [
        "#basic info of the data\n",
        "df.info()"
      ]
    },
    {
      "cell_type": "code",
      "execution_count": null,
      "id": "27861592",
      "metadata": {
        "id": "27861592",
        "outputId": "5bed5f14-e721-4742-fd5d-effd93bae6ca"
      },
      "outputs": [
        {
          "data": {
            "text/html": [
              "<div>\n",
              "<style scoped>\n",
              "    .dataframe tbody tr th:only-of-type {\n",
              "        vertical-align: middle;\n",
              "    }\n",
              "\n",
              "    .dataframe tbody tr th {\n",
              "        vertical-align: top;\n",
              "    }\n",
              "\n",
              "    .dataframe thead th {\n",
              "        text-align: right;\n",
              "    }\n",
              "</style>\n",
              "<table border=\"1\" class=\"dataframe\">\n",
              "  <thead>\n",
              "    <tr style=\"text-align: right;\">\n",
              "      <th></th>\n",
              "      <th>age</th>\n",
              "      <th>sex</th>\n",
              "      <th>bmi</th>\n",
              "      <th>children</th>\n",
              "      <th>smoker</th>\n",
              "      <th>Claim_Amount</th>\n",
              "      <th>past_consultations</th>\n",
              "      <th>num_of_steps</th>\n",
              "      <th>Hospital_expenditure</th>\n",
              "      <th>NUmber_of_past_hospitalizations</th>\n",
              "      <th>Anual_Salary</th>\n",
              "      <th>region</th>\n",
              "      <th>charges</th>\n",
              "    </tr>\n",
              "  </thead>\n",
              "  <tbody>\n",
              "    <tr>\n",
              "      <th>0</th>\n",
              "      <td>False</td>\n",
              "      <td>False</td>\n",
              "      <td>False</td>\n",
              "      <td>False</td>\n",
              "      <td>False</td>\n",
              "      <td>False</td>\n",
              "      <td>False</td>\n",
              "      <td>False</td>\n",
              "      <td>False</td>\n",
              "      <td>False</td>\n",
              "      <td>False</td>\n",
              "      <td>False</td>\n",
              "      <td>False</td>\n",
              "    </tr>\n",
              "    <tr>\n",
              "      <th>1</th>\n",
              "      <td>False</td>\n",
              "      <td>False</td>\n",
              "      <td>False</td>\n",
              "      <td>False</td>\n",
              "      <td>False</td>\n",
              "      <td>False</td>\n",
              "      <td>False</td>\n",
              "      <td>False</td>\n",
              "      <td>False</td>\n",
              "      <td>False</td>\n",
              "      <td>False</td>\n",
              "      <td>False</td>\n",
              "      <td>False</td>\n",
              "    </tr>\n",
              "    <tr>\n",
              "      <th>2</th>\n",
              "      <td>False</td>\n",
              "      <td>False</td>\n",
              "      <td>False</td>\n",
              "      <td>False</td>\n",
              "      <td>False</td>\n",
              "      <td>False</td>\n",
              "      <td>False</td>\n",
              "      <td>False</td>\n",
              "      <td>False</td>\n",
              "      <td>False</td>\n",
              "      <td>False</td>\n",
              "      <td>False</td>\n",
              "      <td>False</td>\n",
              "    </tr>\n",
              "    <tr>\n",
              "      <th>3</th>\n",
              "      <td>False</td>\n",
              "      <td>False</td>\n",
              "      <td>False</td>\n",
              "      <td>False</td>\n",
              "      <td>False</td>\n",
              "      <td>False</td>\n",
              "      <td>False</td>\n",
              "      <td>False</td>\n",
              "      <td>False</td>\n",
              "      <td>False</td>\n",
              "      <td>False</td>\n",
              "      <td>False</td>\n",
              "      <td>False</td>\n",
              "    </tr>\n",
              "    <tr>\n",
              "      <th>4</th>\n",
              "      <td>False</td>\n",
              "      <td>False</td>\n",
              "      <td>False</td>\n",
              "      <td>False</td>\n",
              "      <td>False</td>\n",
              "      <td>False</td>\n",
              "      <td>False</td>\n",
              "      <td>False</td>\n",
              "      <td>False</td>\n",
              "      <td>False</td>\n",
              "      <td>False</td>\n",
              "      <td>False</td>\n",
              "      <td>False</td>\n",
              "    </tr>\n",
              "    <tr>\n",
              "      <th>...</th>\n",
              "      <td>...</td>\n",
              "      <td>...</td>\n",
              "      <td>...</td>\n",
              "      <td>...</td>\n",
              "      <td>...</td>\n",
              "      <td>...</td>\n",
              "      <td>...</td>\n",
              "      <td>...</td>\n",
              "      <td>...</td>\n",
              "      <td>...</td>\n",
              "      <td>...</td>\n",
              "      <td>...</td>\n",
              "      <td>...</td>\n",
              "    </tr>\n",
              "    <tr>\n",
              "      <th>1333</th>\n",
              "      <td>False</td>\n",
              "      <td>False</td>\n",
              "      <td>False</td>\n",
              "      <td>False</td>\n",
              "      <td>False</td>\n",
              "      <td>False</td>\n",
              "      <td>False</td>\n",
              "      <td>False</td>\n",
              "      <td>False</td>\n",
              "      <td>False</td>\n",
              "      <td>False</td>\n",
              "      <td>False</td>\n",
              "      <td>False</td>\n",
              "    </tr>\n",
              "    <tr>\n",
              "      <th>1334</th>\n",
              "      <td>False</td>\n",
              "      <td>False</td>\n",
              "      <td>False</td>\n",
              "      <td>False</td>\n",
              "      <td>False</td>\n",
              "      <td>False</td>\n",
              "      <td>False</td>\n",
              "      <td>False</td>\n",
              "      <td>False</td>\n",
              "      <td>False</td>\n",
              "      <td>False</td>\n",
              "      <td>False</td>\n",
              "      <td>False</td>\n",
              "    </tr>\n",
              "    <tr>\n",
              "      <th>1335</th>\n",
              "      <td>False</td>\n",
              "      <td>False</td>\n",
              "      <td>False</td>\n",
              "      <td>False</td>\n",
              "      <td>False</td>\n",
              "      <td>False</td>\n",
              "      <td>False</td>\n",
              "      <td>False</td>\n",
              "      <td>False</td>\n",
              "      <td>False</td>\n",
              "      <td>False</td>\n",
              "      <td>False</td>\n",
              "      <td>False</td>\n",
              "    </tr>\n",
              "    <tr>\n",
              "      <th>1336</th>\n",
              "      <td>False</td>\n",
              "      <td>False</td>\n",
              "      <td>False</td>\n",
              "      <td>False</td>\n",
              "      <td>False</td>\n",
              "      <td>False</td>\n",
              "      <td>False</td>\n",
              "      <td>False</td>\n",
              "      <td>False</td>\n",
              "      <td>False</td>\n",
              "      <td>False</td>\n",
              "      <td>False</td>\n",
              "      <td>False</td>\n",
              "    </tr>\n",
              "    <tr>\n",
              "      <th>1337</th>\n",
              "      <td>False</td>\n",
              "      <td>False</td>\n",
              "      <td>False</td>\n",
              "      <td>False</td>\n",
              "      <td>False</td>\n",
              "      <td>False</td>\n",
              "      <td>False</td>\n",
              "      <td>False</td>\n",
              "      <td>False</td>\n",
              "      <td>False</td>\n",
              "      <td>False</td>\n",
              "      <td>False</td>\n",
              "      <td>False</td>\n",
              "    </tr>\n",
              "  </tbody>\n",
              "</table>\n",
              "<p>1338 rows × 13 columns</p>\n",
              "</div>"
            ],
            "text/plain": [
              "        age    sex    bmi  children  smoker  Claim_Amount  past_consultations  \\\n",
              "0     False  False  False     False   False         False               False   \n",
              "1     False  False  False     False   False         False               False   \n",
              "2     False  False  False     False   False         False               False   \n",
              "3     False  False  False     False   False         False               False   \n",
              "4     False  False  False     False   False         False               False   \n",
              "...     ...    ...    ...       ...     ...           ...                 ...   \n",
              "1333  False  False  False     False   False         False               False   \n",
              "1334  False  False  False     False   False         False               False   \n",
              "1335  False  False  False     False   False         False               False   \n",
              "1336  False  False  False     False   False         False               False   \n",
              "1337  False  False  False     False   False         False               False   \n",
              "\n",
              "      num_of_steps  Hospital_expenditure  NUmber_of_past_hospitalizations  \\\n",
              "0            False                 False                            False   \n",
              "1            False                 False                            False   \n",
              "2            False                 False                            False   \n",
              "3            False                 False                            False   \n",
              "4            False                 False                            False   \n",
              "...            ...                   ...                              ...   \n",
              "1333         False                 False                            False   \n",
              "1334         False                 False                            False   \n",
              "1335         False                 False                            False   \n",
              "1336         False                 False                            False   \n",
              "1337         False                 False                            False   \n",
              "\n",
              "      Anual_Salary  region  charges  \n",
              "0            False   False    False  \n",
              "1            False   False    False  \n",
              "2            False   False    False  \n",
              "3            False   False    False  \n",
              "4            False   False    False  \n",
              "...            ...     ...      ...  \n",
              "1333         False   False    False  \n",
              "1334         False   False    False  \n",
              "1335         False   False    False  \n",
              "1336         False   False    False  \n",
              "1337         False   False    False  \n",
              "\n",
              "[1338 rows x 13 columns]"
            ]
          },
          "execution_count": 8,
          "metadata": {},
          "output_type": "execute_result"
        }
      ],
      "source": [
        "#to check the presence of null values\n",
        "df.isnull()"
      ]
    },
    {
      "cell_type": "code",
      "execution_count": null,
      "id": "b186c388",
      "metadata": {
        "id": "b186c388",
        "outputId": "75676df3-b770-4326-804f-f7f3a20f37e8"
      },
      "outputs": [
        {
          "data": {
            "text/plain": [
              "age                                 9\n",
              "sex                                 0\n",
              "bmi                                 3\n",
              "children                            5\n",
              "smoker                              0\n",
              "Claim_Amount                       14\n",
              "past_consultations                  6\n",
              "num_of_steps                        3\n",
              "Hospital_expenditure                4\n",
              "NUmber_of_past_hospitalizations     2\n",
              "Anual_Salary                        6\n",
              "region                              0\n",
              "charges                             0\n",
              "dtype: int64"
            ]
          },
          "execution_count": 9,
          "metadata": {},
          "output_type": "execute_result"
        }
      ],
      "source": [
        "df.isnull().sum()"
      ]
    },
    {
      "cell_type": "code",
      "execution_count": null,
      "id": "7db56835",
      "metadata": {
        "id": "7db56835",
        "outputId": "a7545258-3ab0-44c6-af07-73c45f357029"
      },
      "outputs": [
        {
          "data": {
            "text/plain": [
              "Index(['age', 'sex', 'bmi', 'children', 'smoker', 'Claim_Amount',\n",
              "       'past_consultations', 'num_of_steps', 'Hospital_expenditure',\n",
              "       'NUmber_of_past_hospitalizations', 'Anual_Salary', 'region', 'charges'],\n",
              "      dtype='object')"
            ]
          },
          "execution_count": 10,
          "metadata": {},
          "output_type": "execute_result"
        }
      ],
      "source": [
        "df.columns"
      ]
    },
    {
      "cell_type": "code",
      "execution_count": null,
      "id": "7f44fb6b",
      "metadata": {
        "id": "7f44fb6b"
      },
      "outputs": [],
      "source": [
        "col = list(df.columns)"
      ]
    },
    {
      "cell_type": "code",
      "execution_count": null,
      "id": "aa41ce26",
      "metadata": {
        "id": "aa41ce26",
        "outputId": "8f28b392-2490-4f18-e6d9-790bb7776c32"
      },
      "outputs": [
        {
          "data": {
            "text/plain": [
              "['age',\n",
              " 'sex',\n",
              " 'bmi',\n",
              " 'children',\n",
              " 'smoker',\n",
              " 'Claim_Amount',\n",
              " 'past_consultations',\n",
              " 'num_of_steps',\n",
              " 'Hospital_expenditure',\n",
              " 'NUmber_of_past_hospitalizations',\n",
              " 'Anual_Salary',\n",
              " 'region',\n",
              " 'charges']"
            ]
          },
          "execution_count": 12,
          "metadata": {},
          "output_type": "execute_result"
        }
      ],
      "source": [
        "col"
      ]
    },
    {
      "cell_type": "code",
      "execution_count": null,
      "id": "50c6906e",
      "metadata": {
        "id": "50c6906e",
        "outputId": "bf172685-bea2-48ab-b033-5fd9360baeb2"
      },
      "outputs": [
        {
          "data": {
            "text/plain": [
              "list"
            ]
          },
          "execution_count": 13,
          "metadata": {},
          "output_type": "execute_result"
        }
      ],
      "source": [
        "type(col)"
      ]
    },
    {
      "cell_type": "code",
      "execution_count": null,
      "id": "4436b17e",
      "metadata": {
        "id": "4436b17e",
        "outputId": "398653ae-f9ef-4ed5-aba9-893e99984006"
      },
      "outputs": [
        {
          "data": {
            "text/plain": [
              "'no'"
            ]
          },
          "execution_count": 19,
          "metadata": {},
          "output_type": "execute_result"
        }
      ],
      "source": [
        "df['smoker'].mode()[0] #to check the mode of the data"
      ]
    },
    {
      "cell_type": "code",
      "execution_count": null,
      "id": "72e15bd9",
      "metadata": {
        "id": "72e15bd9",
        "outputId": "5edd5d69-ae91-43c1-fe76-8daac2f14eb1"
      },
      "outputs": [
        {
          "data": {
            "text/plain": [
              "1.0907726931732933"
            ]
          },
          "execution_count": 16,
          "metadata": {},
          "output_type": "execute_result"
        }
      ],
      "source": [
        "df['children'].mean()"
      ]
    },
    {
      "cell_type": "code",
      "execution_count": null,
      "id": "3a1d3e9b",
      "metadata": {
        "id": "3a1d3e9b",
        "outputId": "246c6116-f41b-4525-b999-96751aa86ce9"
      },
      "outputs": [
        {
          "data": {
            "text/plain": [
              "age                                 9\n",
              "sex                                 0\n",
              "bmi                                 3\n",
              "children                            5\n",
              "smoker                              0\n",
              "Claim_Amount                       14\n",
              "past_consultations                  6\n",
              "num_of_steps                        3\n",
              "Hospital_expenditure                4\n",
              "NUmber_of_past_hospitalizations     2\n",
              "Anual_Salary                        6\n",
              "region                              0\n",
              "charges                             0\n",
              "dtype: int64"
            ]
          },
          "execution_count": 17,
          "metadata": {},
          "output_type": "execute_result"
        }
      ],
      "source": [
        "df.isnull().sum()"
      ]
    },
    {
      "cell_type": "code",
      "execution_count": null,
      "id": "7f15254c",
      "metadata": {
        "id": "7f15254c"
      },
      "outputs": [],
      "source": [
        "#for dealing with the null values:\n",
        "#1)df.dropna\n",
        "#2)df.fillna(df['column_name'].mode())"
      ]
    },
    {
      "cell_type": "code",
      "execution_count": null,
      "id": "24c31f7f",
      "metadata": {
        "id": "24c31f7f"
      },
      "outputs": [],
      "source": [
        "#df['Claim_Amount'] = df.fillna(df['Claim_Amount'].mean())"
      ]
    },
    {
      "cell_type": "code",
      "execution_count": null,
      "id": "08eb78f3",
      "metadata": {
        "id": "08eb78f3"
      },
      "outputs": [],
      "source": [
        "for col_name in col:\n",
        "    if df[col_name].dtypes == 'object':\n",
        "        #print(\"object\")\n",
        "        df[col_name] = df[col_name].fillna(df[col_name].mode()[0])\n",
        "    else:\n",
        "        #print(\"numeric\")\n",
        "        df[col_name] = df[col_name].fillna(df[col_name].mean())"
      ]
    },
    {
      "cell_type": "code",
      "execution_count": null,
      "id": "1e74f095",
      "metadata": {
        "id": "1e74f095",
        "outputId": "5fb164e9-2422-4140-f42e-04999a6f81be"
      },
      "outputs": [
        {
          "data": {
            "text/plain": [
              "age                                0\n",
              "sex                                0\n",
              "bmi                                0\n",
              "children                           0\n",
              "smoker                             0\n",
              "Claim_Amount                       0\n",
              "past_consultations                 0\n",
              "num_of_steps                       0\n",
              "Hospital_expenditure               0\n",
              "NUmber_of_past_hospitalizations    0\n",
              "Anual_Salary                       0\n",
              "region                             0\n",
              "charges                            0\n",
              "dtype: int64"
            ]
          },
          "execution_count": 22,
          "metadata": {},
          "output_type": "execute_result"
        }
      ],
      "source": [
        "df.isnull().sum()"
      ]
    },
    {
      "cell_type": "code",
      "execution_count": null,
      "id": "cc7f7edd",
      "metadata": {
        "id": "cc7f7edd"
      },
      "outputs": [],
      "source": [
        "#object - mode\n",
        "#numeric -> mean/median"
      ]
    },
    {
      "cell_type": "code",
      "execution_count": null,
      "id": "8f4df550",
      "metadata": {
        "id": "8f4df550",
        "outputId": "7b410d73-9ee8-45b6-d1c8-f42556f3673f"
      },
      "outputs": [
        {
          "data": {
            "text/plain": [
              "['age',\n",
              " 'sex',\n",
              " 'bmi',\n",
              " 'children',\n",
              " 'smoker',\n",
              " 'Claim_Amount',\n",
              " 'past_consultations',\n",
              " 'num_of_steps',\n",
              " 'Hospital_expenditure',\n",
              " 'NUmber_of_past_hospitalizations',\n",
              " 'Anual_Salary',\n",
              " 'region',\n",
              " 'charges']"
            ]
          },
          "execution_count": 24,
          "metadata": {},
          "output_type": "execute_result"
        }
      ],
      "source": [
        "col"
      ]
    },
    {
      "cell_type": "code",
      "execution_count": null,
      "id": "f89bf5f1",
      "metadata": {
        "id": "f89bf5f1"
      },
      "outputs": [],
      "source": [
        "#check dupliactes - drop duplicates"
      ]
    },
    {
      "cell_type": "code",
      "execution_count": null,
      "id": "e5f144b0",
      "metadata": {
        "id": "e5f144b0",
        "outputId": "6b0ec037-6b9e-4022-ea7e-97a01c6bcbce"
      },
      "outputs": [
        {
          "data": {
            "image/png": "[encoded data removed]",
            "text/plain": [
              "<Figure size 432x288 with 1 Axes>"
            ]
          },
          "metadata": {
            "needs_background": "light"
          },
          "output_type": "display_data"
        },
        {
          "data": {
            "image/png": "[encoded data removed]",
            "text/plain": [
              "<Figure size 432x288 with 1 Axes>"
            ]
          },
          "metadata": {
            "needs_background": "light"
          },
          "output_type": "display_data"
        },
        {
          "data": {
            "image/png": "[encoded data removed]",
            "text/plain": [
              "<Figure size 432x288 with 1 Axes>"
            ]
          },
          "metadata": {
            "needs_background": "light"
          },
          "output_type": "display_data"
        },
        {
          "data": {
            "image/png": "[encoded data removed]",
            "text/plain": [
              "<Figure size 432x288 with 1 Axes>"
            ]
          },
          "metadata": {
            "needs_background": "light"
          },
          "output_type": "display_data"
        },
        {
          "data": {
            "image/png": "[encoded data removed]",
            "text/plain": [
              "<Figure size 432x288 with 1 Axes>"
            ]
          },
          "metadata": {
            "needs_background": "light"
          },
          "output_type": "display_data"
        },
        {
          "data": {
            "image/png": "[encoded data removed]",
            "text/plain": [
              "<Figure size 432x288 with 1 Axes>"
            ]
          },
          "metadata": {
            "needs_background": "light"
          },
          "output_type": "display_data"
        },
        {
          "data": {
            "image/png": "[encoded data removed]",
            "text/plain": [
              "<Figure size 432x288 with 1 Axes>"
            ]
          },
          "metadata": {
            "needs_background": "light"
          },
          "output_type": "display_data"
        },
        {
          "data": {
            "image/png": "[encoded data removed]",
            "text/plain": [
              "<Figure size 432x288 with 1 Axes>"
            ]
          },
          "metadata": {
            "needs_background": "light"
          },
          "output_type": "display_data"
        },
        {
          "data": {
            "image/png": "[encoded data removed]",
            "text/plain": [
              "<Figure size 432x288 with 1 Axes>"
            ]
          },
          "metadata": {
            "needs_background": "light"
          },
          "output_type": "display_data"
        },
        {
          "data": {
            "image/png": "[encoded data removed]",
            "text/plain": [
              "<Figure size 432x288 with 1 Axes>"
            ]
          },
          "metadata": {
            "needs_background": "light"
          },
          "output_type": "display_data"
        }
      ],
      "source": [
        "for col_name in col:\n",
        "    if(df[col_name].dtypes == 'int64' or df[col_name].dtypes=='float64'):\n",
        "        plt.hist(df[col_name])\n",
        "        plt.xlabel(col_name)\n",
        "        plt.ylabel('count')\n",
        "        plt.show()"
      ]
    },
    {
      "cell_type": "code",
      "execution_count": null,
      "id": "026cd26b",
      "metadata": {
        "scrolled": true,
        "id": "026cd26b",
        "outputId": "bc69c320-1faa-46a8-e928-fba7f2d77211"
      },
      "outputs": [
        {
          "data": {
            "image/png": "[encoded data removed]",
            "text/plain": [
              "<Figure size 432x288 with 1 Axes>"
            ]
          },
          "metadata": {
            "needs_background": "light"
          },
          "output_type": "display_data"
        },
        {
          "data": {
            "image/png": "[encoded data removed]",
            "text/plain": [
              "<Figure size 432x288 with 1 Axes>"
            ]
          },
          "metadata": {
            "needs_background": "light"
          },
          "output_type": "display_data"
        },
        {
          "data": {
            "image/png": "[encoded data removed]",
            "text/plain": [
              "<Figure size 432x288 with 1 Axes>"
            ]
          },
          "metadata": {
            "needs_background": "light"
          },
          "output_type": "display_data"
        },
        {
          "data": {
            "image/png": "[encoded data removed]",
            "text/plain": [
              "<Figure size 432x288 with 1 Axes>"
            ]
          },
          "metadata": {
            "needs_background": "light"
          },
          "output_type": "display_data"
        },
        {
          "data": {
            "image/png": "[encoded data removed]",
            "text/plain": [
              "<Figure size 432x288 with 1 Axes>"
            ]
          },
          "metadata": {
            "needs_background": "light"
          },
          "output_type": "display_data"
        },
        {
          "data": {
            "image/png": "[encoded data removed]",
            "text/plain": [
              "<Figure size 432x288 with 1 Axes>"
            ]
          },
          "metadata": {
            "needs_background": "light"
          },
          "output_type": "display_data"
        },
        {
          "data": {
            "image/png": "[encoded data removed]",
            "text/plain": [
              "<Figure size 432x288 with 1 Axes>"
            ]
          },
          "metadata": {
            "needs_background": "light"
          },
          "output_type": "display_data"
        },
        {
          "data": {
            "image/png": "[encoded data removed]",
            "text/plain": [
              "<Figure size 432x288 with 1 Axes>"
            ]
          },
          "metadata": {
            "needs_background": "light"
          },
          "output_type": "display_data"
        },
        {
          "data": {
            "image/png": "[encoded data removed]",
            "text/plain": [
              "<Figure size 432x288 with 1 Axes>"
            ]
          },
          "metadata": {
            "needs_background": "light"
          },
          "output_type": "display_data"
        },
        {
          "data": {
            "image/png": "[encoded data removed]",
            "text/plain": [
              "<Figure size 432x288 with 1 Axes>"
            ]
          },
          "metadata": {
            "needs_background": "light"
          },
          "output_type": "display_data"
        }
      ],
      "source": [
        "for col_name in col:\n",
        "    if(df[col_name].dtypes == 'int64' or df[col_name].dtypes=='float64'):\n",
        "        plt.boxplot(df[col_name])\n",
        "        plt.xlabel(col_name)\n",
        "        plt.ylabel('count')\n",
        "        plt.show()"
      ]
    },
    {
      "cell_type": "code",
      "execution_count": null,
      "id": "3348ca5c",
      "metadata": {
        "id": "3348ca5c"
      },
      "outputs": [],
      "source": [
        "#lower limit - Q1-1.5*IQR\n",
        "#upper limit - Q3+1.5*IQR"
      ]
    },
    {
      "cell_type": "code",
      "execution_count": null,
      "id": "8dad077d",
      "metadata": {
        "id": "8dad077d"
      },
      "outputs": [],
      "source": [
        "Q1 = df['bmi'].quantile(0.25)\n",
        "Q3 = df['bmi'].quantile(0.75)"
      ]
    },
    {
      "cell_type": "code",
      "execution_count": null,
      "id": "6f9c1d8e",
      "metadata": {
        "id": "6f9c1d8e",
        "outputId": "c328d67f-67e9-4d24-84e2-be564155eb49"
      },
      "outputs": [
        {
          "name": "stdout",
          "output_type": "stream",
          "text": [
            "26.315 34.65625\n"
          ]
        }
      ],
      "source": [
        "print(Q1,Q3)"
      ]
    },
    {
      "cell_type": "code",
      "execution_count": null,
      "id": "99849952",
      "metadata": {
        "id": "99849952",
        "outputId": "85581f41-6587-48e6-aed3-8cb77c2d3895"
      },
      "outputs": [
        {
          "data": {
            "text/plain": [
              "8.341249999999999"
            ]
          },
          "execution_count": 30,
          "metadata": {},
          "output_type": "execute_result"
        }
      ],
      "source": [
        "IQR = Q3-Q1\n",
        "IQR"
      ]
    },
    {
      "cell_type": "code",
      "execution_count": null,
      "id": "fc091932",
      "metadata": {
        "id": "fc091932",
        "outputId": "3841f335-bfab-409e-8aff-3568f0cf3ff7"
      },
      "outputs": [
        {
          "data": {
            "text/plain": [
              "13.803125000000003"
            ]
          },
          "execution_count": 31,
          "metadata": {},
          "output_type": "execute_result"
        }
      ],
      "source": [
        "#lower limit\n",
        "Q1-1.5*IQR"
      ]
    },
    {
      "cell_type": "code",
      "execution_count": null,
      "id": "7510b19f",
      "metadata": {
        "id": "7510b19f",
        "outputId": "6ba75440-62cf-4291-8615-73b38fabf293"
      },
      "outputs": [
        {
          "data": {
            "text/plain": [
              "47.168124999999996"
            ]
          },
          "execution_count": 32,
          "metadata": {},
          "output_type": "execute_result"
        }
      ],
      "source": [
        "#upper limit\n",
        "Q3+1.5*IQR"
      ]
    },
    {
      "cell_type": "code",
      "execution_count": null,
      "id": "a62a3d7b",
      "metadata": {
        "id": "a62a3d7b"
      },
      "outputs": [],
      "source": [
        "df = df[((df['bmi']>=Q1-1.5*IQR) & (df['bmi']<=Q3+1.5*IQR))]"
      ]
    },
    {
      "cell_type": "code",
      "execution_count": null,
      "id": "1d735a14",
      "metadata": {
        "id": "1d735a14"
      },
      "outputs": [],
      "source": [
        "Q1 = df['past_consultations'].quantile(0.25)\n",
        "Q3 = df['past_consultations'].quantile(0.75)\n",
        "\n",
        "IQR = Q3-Q1\n",
        "\n",
        "df = df[((df['past_consultations']>=Q1-1.5*IQR) & (df['past_consultations']<=Q3+1.5*IQR))]\n",
        "\n",
        "Q1 = df['Hospital_expenditure'].quantile(0.25)\n",
        "Q3 = df['Hospital_expenditure'].quantile(0.75)\n",
        "\n",
        "IQR = Q3-Q1\n",
        "\n",
        "df = df[((df['Hospital_expenditure']>=Q1-1.5*IQR) & (df['Hospital_expenditure']<=Q3+1.5*IQR))]\n",
        "\n",
        "Q1 = df['Anual_Salary'].quantile(0.25)\n",
        "Q3 = df['Anual_Salary'].quantile(0.75)\n",
        "\n",
        "IQR = Q3-Q1\n",
        "\n",
        "df = df[((df['Anual_Salary']>=Q1-1.5*IQR) & (df['Anual_Salary']<=Q3+1.5*IQR))]"
      ]
    },
    {
      "cell_type": "code",
      "execution_count": null,
      "id": "bd7901c8",
      "metadata": {
        "id": "bd7901c8",
        "outputId": "f62e79f7-e93c-450b-9548-b8d0d93c5665"
      },
      "outputs": [
        {
          "data": {
            "text/plain": [
              "(1025, 13)"
            ]
          },
          "execution_count": 36,
          "metadata": {},
          "output_type": "execute_result"
        }
      ],
      "source": [
        "df.shape"
      ]
    },
    {
      "cell_type": "code",
      "execution_count": null,
      "id": "d0d1bc49",
      "metadata": {
        "id": "d0d1bc49",
        "outputId": "d9931284-fa2c-41bb-d52a-a6fda4560b54"
      },
      "outputs": [
        {
          "data": {
            "image/png": "[encoded data removed]",
            "text/plain": [
              "<Figure size 432x288 with 1 Axes>"
            ]
          },
          "metadata": {
            "needs_background": "light"
          },
          "output_type": "display_data"
        },
        {
          "data": {
            "image/png": "[encoded data removed]",
            "text/plain": [
              "<Figure size 432x288 with 1 Axes>"
            ]
          },
          "metadata": {
            "needs_background": "light"
          },
          "output_type": "display_data"
        },
        {
          "data": {
            "image/png": "[encoded data removed]",
            "text/plain": [
              "<Figure size 432x288 with 1 Axes>"
            ]
          },
          "metadata": {
            "needs_background": "light"
          },
          "output_type": "display_data"
        },
        {
          "data": {
            "image/png": "[encoded data removed]",
            "text/plain": [
              "<Figure size 432x288 with 1 Axes>"
            ]
          },
          "metadata": {
            "needs_background": "light"
          },
          "output_type": "display_data"
        },
        {
          "data": {
            "image/png": "[encoded data removed]",
            "text/plain": [
              "<Figure size 432x288 with 1 Axes>"
            ]
          },
          "metadata": {
            "needs_background": "light"
          },
          "output_type": "display_data"
        },
        {
          "data": {
            "image/png": "[encoded data removed]",
            "text/plain": [
              "<Figure size 432x288 with 1 Axes>"
            ]
          },
          "metadata": {
            "needs_background": "light"
          },
          "output_type": "display_data"
        },
        {
          "data": {
            "image/png": "[encoded data removed]",
            "text/plain": [
              "<Figure size 432x288 with 1 Axes>"
            ]
          },
          "metadata": {
            "needs_background": "light"
          },
          "output_type": "display_data"
        },
        {
          "data": {
            "image/png": "[encoded data removed]",
            "text/plain": [
              "<Figure size 432x288 with 1 Axes>"
            ]
          },
          "metadata": {
            "needs_background": "light"
          },
          "output_type": "display_data"
        },
        {
          "data": {
            "image/png": "[encoded data removed]",
            "text/plain": [
              "<Figure size 432x288 with 1 Axes>"
            ]
          },
          "metadata": {
            "needs_background": "light"
          },
          "output_type": "display_data"
        },
        {
          "data": {
            "image/png": "[encoded data removed]",
            "text/plain": [
              "<Figure size 432x288 with 1 Axes>"
            ]
          },
          "metadata": {
            "needs_background": "light"
          },
          "output_type": "display_data"
        }
      ],
      "source": [
        "#remove the outliers only for one time\n",
        "for col_name in col:\n",
        "    if(df[col_name].dtypes == 'int64' or df[col_name].dtypes=='float64'):\n",
        "        plt.boxplot(df[col_name])\n",
        "        plt.xlabel(col_name)\n",
        "        plt.ylabel('count')\n",
        "        plt.show()"
      ]
    },
    {
      "cell_type": "code",
      "execution_count": null,
      "id": "6dec09f4",
      "metadata": {
        "id": "6dec09f4"
      },
      "outputs": [],
      "source": [
        "#Multicollinearity"
      ]
    },
    {
      "cell_type": "code",
      "execution_count": null,
      "id": "241db250",
      "metadata": {
        "id": "241db250"
      },
      "outputs": [],
      "source": [
        "#vif\n",
        "from statsmodels.stats.outliers_influence import variance_inflation_factor\n",
        "col_list = []\n",
        "for col in df.columns:\n",
        "    if((df[col].dtype!=\"object\") & (col!='charges')): # only num cols expect target\n",
        "        col_list.append(col)"
      ]
    },
    {
      "cell_type": "code",
      "execution_count": null,
      "id": "c9e49722",
      "metadata": {
        "id": "c9e49722",
        "outputId": "62c8d09c-a215-4b16-bedb-32c2b179216e"
      },
      "outputs": [
        {
          "data": {
            "text/plain": [
              "['age',\n",
              " 'bmi',\n",
              " 'children',\n",
              " 'Claim_Amount',\n",
              " 'past_consultations',\n",
              " 'num_of_steps',\n",
              " 'Hospital_expenditure',\n",
              " 'NUmber_of_past_hospitalizations',\n",
              " 'Anual_Salary']"
            ]
          },
          "execution_count": 45,
          "metadata": {},
          "output_type": "execute_result"
        }
      ],
      "source": [
        "col_list"
      ]
    },
    {
      "cell_type": "code",
      "execution_count": null,
      "id": "759eb546",
      "metadata": {
        "id": "759eb546",
        "outputId": "3e3f90f9-e1a0-43f5-8e82-087207580592"
      },
      "outputs": [
        {
          "data": {
            "text/html": [
              "<div>\n",
              "<style scoped>\n",
              "    .dataframe tbody tr th:only-of-type {\n",
              "        vertical-align: middle;\n",
              "    }\n",
              "\n",
              "    .dataframe tbody tr th {\n",
              "        vertical-align: top;\n",
              "    }\n",
              "\n",
              "    .dataframe thead th {\n",
              "        text-align: right;\n",
              "    }\n",
              "</style>\n",
              "<table border=\"1\" class=\"dataframe\">\n",
              "  <thead>\n",
              "    <tr style=\"text-align: right;\">\n",
              "      <th></th>\n",
              "      <th>age</th>\n",
              "      <th>sex</th>\n",
              "      <th>bmi</th>\n",
              "      <th>children</th>\n",
              "      <th>smoker</th>\n",
              "      <th>Claim_Amount</th>\n",
              "      <th>past_consultations</th>\n",
              "      <th>num_of_steps</th>\n",
              "      <th>Hospital_expenditure</th>\n",
              "      <th>NUmber_of_past_hospitalizations</th>\n",
              "      <th>Anual_Salary</th>\n",
              "      <th>region</th>\n",
              "      <th>charges</th>\n",
              "    </tr>\n",
              "  </thead>\n",
              "  <tbody>\n",
              "    <tr>\n",
              "      <th>0</th>\n",
              "      <td>18.0</td>\n",
              "      <td>male</td>\n",
              "      <td>23.210</td>\n",
              "      <td>0.0</td>\n",
              "      <td>no</td>\n",
              "      <td>29087.54313</td>\n",
              "      <td>17.0</td>\n",
              "      <td>715428.0</td>\n",
              "      <td>4.720921e+06</td>\n",
              "      <td>0.0</td>\n",
              "      <td>5.578497e+07</td>\n",
              "      <td>southeast</td>\n",
              "      <td>1121.87390</td>\n",
              "    </tr>\n",
              "    <tr>\n",
              "      <th>1</th>\n",
              "      <td>18.0</td>\n",
              "      <td>male</td>\n",
              "      <td>30.140</td>\n",
              "      <td>0.0</td>\n",
              "      <td>no</td>\n",
              "      <td>39053.67437</td>\n",
              "      <td>7.0</td>\n",
              "      <td>699157.0</td>\n",
              "      <td>4.329832e+06</td>\n",
              "      <td>0.0</td>\n",
              "      <td>1.370089e+07</td>\n",
              "      <td>southeast</td>\n",
              "      <td>1131.50660</td>\n",
              "    </tr>\n",
              "    <tr>\n",
              "      <th>2</th>\n",
              "      <td>18.0</td>\n",
              "      <td>male</td>\n",
              "      <td>33.330</td>\n",
              "      <td>0.0</td>\n",
              "      <td>no</td>\n",
              "      <td>39023.62759</td>\n",
              "      <td>19.0</td>\n",
              "      <td>702341.0</td>\n",
              "      <td>6.884861e+06</td>\n",
              "      <td>0.0</td>\n",
              "      <td>7.352311e+07</td>\n",
              "      <td>southeast</td>\n",
              "      <td>1135.94070</td>\n",
              "    </tr>\n",
              "    <tr>\n",
              "      <th>3</th>\n",
              "      <td>18.0</td>\n",
              "      <td>male</td>\n",
              "      <td>33.660</td>\n",
              "      <td>0.0</td>\n",
              "      <td>no</td>\n",
              "      <td>28185.39332</td>\n",
              "      <td>11.0</td>\n",
              "      <td>700250.0</td>\n",
              "      <td>4.274774e+06</td>\n",
              "      <td>0.0</td>\n",
              "      <td>7.581968e+07</td>\n",
              "      <td>southeast</td>\n",
              "      <td>1136.39940</td>\n",
              "    </tr>\n",
              "    <tr>\n",
              "      <th>4</th>\n",
              "      <td>18.0</td>\n",
              "      <td>male</td>\n",
              "      <td>34.100</td>\n",
              "      <td>0.0</td>\n",
              "      <td>no</td>\n",
              "      <td>14697.85941</td>\n",
              "      <td>16.0</td>\n",
              "      <td>711584.0</td>\n",
              "      <td>3.787294e+06</td>\n",
              "      <td>0.0</td>\n",
              "      <td>2.301232e+07</td>\n",
              "      <td>southeast</td>\n",
              "      <td>1137.01100</td>\n",
              "    </tr>\n",
              "    <tr>\n",
              "      <th>...</th>\n",
              "      <td>...</td>\n",
              "      <td>...</td>\n",
              "      <td>...</td>\n",
              "      <td>...</td>\n",
              "      <td>...</td>\n",
              "      <td>...</td>\n",
              "      <td>...</td>\n",
              "      <td>...</td>\n",
              "      <td>...</td>\n",
              "      <td>...</td>\n",
              "      <td>...</td>\n",
              "      <td>...</td>\n",
              "      <td>...</td>\n",
              "    </tr>\n",
              "    <tr>\n",
              "      <th>1041</th>\n",
              "      <td>24.0</td>\n",
              "      <td>female</td>\n",
              "      <td>27.600</td>\n",
              "      <td>0.0</td>\n",
              "      <td>no</td>\n",
              "      <td>27184.27803</td>\n",
              "      <td>9.0</td>\n",
              "      <td>980010.0</td>\n",
              "      <td>1.266673e+07</td>\n",
              "      <td>1.0</td>\n",
              "      <td>3.743228e+08</td>\n",
              "      <td>southwest</td>\n",
              "      <td>18955.22017</td>\n",
              "    </tr>\n",
              "    <tr>\n",
              "      <th>1046</th>\n",
              "      <td>29.0</td>\n",
              "      <td>female</td>\n",
              "      <td>27.940</td>\n",
              "      <td>1.0</td>\n",
              "      <td>yes</td>\n",
              "      <td>51168.25474</td>\n",
              "      <td>23.0</td>\n",
              "      <td>993751.0</td>\n",
              "      <td>1.665982e+07</td>\n",
              "      <td>1.0</td>\n",
              "      <td>3.712188e+08</td>\n",
              "      <td>southeast</td>\n",
              "      <td>19107.77960</td>\n",
              "    </tr>\n",
              "    <tr>\n",
              "      <th>1050</th>\n",
              "      <td>31.0</td>\n",
              "      <td>male</td>\n",
              "      <td>29.810</td>\n",
              "      <td>0.0</td>\n",
              "      <td>yes</td>\n",
              "      <td>24382.58056</td>\n",
              "      <td>21.0</td>\n",
              "      <td>973924.0</td>\n",
              "      <td>1.028991e+07</td>\n",
              "      <td>1.0</td>\n",
              "      <td>3.745310e+08</td>\n",
              "      <td>southeast</td>\n",
              "      <td>19350.36890</td>\n",
              "    </tr>\n",
              "    <tr>\n",
              "      <th>1062</th>\n",
              "      <td>43.0</td>\n",
              "      <td>female</td>\n",
              "      <td>20.045</td>\n",
              "      <td>2.0</td>\n",
              "      <td>yes</td>\n",
              "      <td>21596.43846</td>\n",
              "      <td>10.0</td>\n",
              "      <td>994419.0</td>\n",
              "      <td>1.083030e+07</td>\n",
              "      <td>1.0</td>\n",
              "      <td>3.696849e+08</td>\n",
              "      <td>northeast</td>\n",
              "      <td>19798.05455</td>\n",
              "    </tr>\n",
              "    <tr>\n",
              "      <th>1069</th>\n",
              "      <td>35.0</td>\n",
              "      <td>female</td>\n",
              "      <td>28.025</td>\n",
              "      <td>0.0</td>\n",
              "      <td>yes</td>\n",
              "      <td>17200.14586</td>\n",
              "      <td>15.0</td>\n",
              "      <td>993979.0</td>\n",
              "      <td>1.247744e+07</td>\n",
              "      <td>1.0</td>\n",
              "      <td>3.696849e+08</td>\n",
              "      <td>northwest</td>\n",
              "      <td>20234.85475</td>\n",
              "    </tr>\n",
              "  </tbody>\n",
              "</table>\n",
              "<p>1025 rows × 13 columns</p>\n",
              "</div>"
            ],
            "text/plain": [
              "       age     sex     bmi  children smoker  Claim_Amount  past_consultations  \\\n",
              "0     18.0    male  23.210       0.0     no   29087.54313                17.0   \n",
              "1     18.0    male  30.140       0.0     no   39053.67437                 7.0   \n",
              "2     18.0    male  33.330       0.0     no   39023.62759                19.0   \n",
              "3     18.0    male  33.660       0.0     no   28185.39332                11.0   \n",
              "4     18.0    male  34.100       0.0     no   14697.85941                16.0   \n",
              "...    ...     ...     ...       ...    ...           ...                 ...   \n",
              "1041  24.0  female  27.600       0.0     no   27184.27803                 9.0   \n",
              "1046  29.0  female  27.940       1.0    yes   51168.25474                23.0   \n",
              "1050  31.0    male  29.810       0.0    yes   24382.58056                21.0   \n",
              "1062  43.0  female  20.045       2.0    yes   21596.43846                10.0   \n",
              "1069  35.0  female  28.025       0.0    yes   17200.14586                15.0   \n",
              "\n",
              "      num_of_steps  Hospital_expenditure  NUmber_of_past_hospitalizations  \\\n",
              "0         715428.0          4.720921e+06                              0.0   \n",
              "1         699157.0          4.329832e+06                              0.0   \n",
              "2         702341.0          6.884861e+06                              0.0   \n",
              "3         700250.0          4.274774e+06                              0.0   \n",
              "4         711584.0          3.787294e+06                              0.0   \n",
              "...            ...                   ...                              ...   \n",
              "1041      980010.0          1.266673e+07                              1.0   \n",
              "1046      993751.0          1.665982e+07                              1.0   \n",
              "1050      973924.0          1.028991e+07                              1.0   \n",
              "1062      994419.0          1.083030e+07                              1.0   \n",
              "1069      993979.0          1.247744e+07                              1.0   \n",
              "\n",
              "      Anual_Salary     region      charges  \n",
              "0     5.578497e+07  southeast   1121.87390  \n",
              "1     1.370089e+07  southeast   1131.50660  \n",
              "2     7.352311e+07  southeast   1135.94070  \n",
              "3     7.581968e+07  southeast   1136.39940  \n",
              "4     2.301232e+07  southeast   1137.01100  \n",
              "...            ...        ...          ...  \n",
              "1041  3.743228e+08  southwest  18955.22017  \n",
              "1046  3.712188e+08  southeast  19107.77960  \n",
              "1050  3.745310e+08  southeast  19350.36890  \n",
              "1062  3.696849e+08  northeast  19798.05455  \n",
              "1069  3.696849e+08  northwest  20234.85475  \n",
              "\n",
              "[1025 rows x 13 columns]"
            ]
          },
          "execution_count": 46,
          "metadata": {},
          "output_type": "execute_result"
        }
      ],
      "source": [
        "df"
      ]
    },
    {
      "cell_type": "code",
      "execution_count": null,
      "id": "792d4fbd",
      "metadata": {
        "id": "792d4fbd",
        "outputId": "db83f6f6-13b9-4bc8-ccb2-061f74f93702"
      },
      "outputs": [
        {
          "name": "stdout",
          "output_type": "stream",
          "text": [
            "                           Feature        VIF\n",
            "0                              age  15.843292\n",
            "1                              bmi  26.254360\n",
            "2                         children   2.029727\n",
            "3                     Claim_Amount   5.658371\n",
            "4               past_consultations   6.221689\n",
            "5                     num_of_steps  61.238400\n",
            "6             Hospital_expenditure   5.161339\n",
            "7  NUmber_of_past_hospitalizations  12.002015\n",
            "8                     Anual_Salary   5.595154\n"
          ]
        }
      ],
      "source": [
        "#vif\n",
        "from statsmodels.stats.outliers_influence import variance_inflation_factor\n",
        "col_list = []\n",
        "for col in df.columns:\n",
        "    if((df[col].dtype!=\"object\") & (col!='charges')): # only num cols expect targe\n",
        "        col_list.append(col)\n",
        "\n",
        "X = df[col_list]\n",
        "vif_data = pd.DataFrame()\n",
        "vif_data['Feature'] = X.columns\n",
        "vif_data['VIF'] = [variance_inflation_factor(X.values, i) for i in range(len(X.columns))]\n",
        "print(vif_data)"
      ]
    },
    {
      "cell_type": "code",
      "execution_count": null,
      "id": "78ead5c1",
      "metadata": {
        "id": "78ead5c1"
      },
      "outputs": [],
      "source": [
        "df = df.drop(['num_of_steps'], axis=1)"
      ]
    },
    {
      "cell_type": "code",
      "execution_count": null,
      "id": "05fbead8",
      "metadata": {
        "id": "05fbead8",
        "outputId": "b4d77438-81db-469b-d11d-1433059e6284"
      },
      "outputs": [
        {
          "data": {
            "text/html": [
              "<div>\n",
              "<style scoped>\n",
              "    .dataframe tbody tr th:only-of-type {\n",
              "        vertical-align: middle;\n",
              "    }\n",
              "\n",
              "    .dataframe tbody tr th {\n",
              "        vertical-align: top;\n",
              "    }\n",
              "\n",
              "    .dataframe thead th {\n",
              "        text-align: right;\n",
              "    }\n",
              "</style>\n",
              "<table border=\"1\" class=\"dataframe\">\n",
              "  <thead>\n",
              "    <tr style=\"text-align: right;\">\n",
              "      <th></th>\n",
              "      <th>age</th>\n",
              "      <th>sex</th>\n",
              "      <th>bmi</th>\n",
              "      <th>children</th>\n",
              "      <th>smoker</th>\n",
              "      <th>Claim_Amount</th>\n",
              "      <th>past_consultations</th>\n",
              "      <th>Hospital_expenditure</th>\n",
              "      <th>NUmber_of_past_hospitalizations</th>\n",
              "      <th>Anual_Salary</th>\n",
              "      <th>region</th>\n",
              "      <th>charges</th>\n",
              "    </tr>\n",
              "  </thead>\n",
              "  <tbody>\n",
              "    <tr>\n",
              "      <th>0</th>\n",
              "      <td>18.0</td>\n",
              "      <td>male</td>\n",
              "      <td>23.210</td>\n",
              "      <td>0.0</td>\n",
              "      <td>no</td>\n",
              "      <td>29087.54313</td>\n",
              "      <td>17.0</td>\n",
              "      <td>4.720921e+06</td>\n",
              "      <td>0.0</td>\n",
              "      <td>5.578497e+07</td>\n",
              "      <td>southeast</td>\n",
              "      <td>1121.87390</td>\n",
              "    </tr>\n",
              "    <tr>\n",
              "      <th>1</th>\n",
              "      <td>18.0</td>\n",
              "      <td>male</td>\n",
              "      <td>30.140</td>\n",
              "      <td>0.0</td>\n",
              "      <td>no</td>\n",
              "      <td>39053.67437</td>\n",
              "      <td>7.0</td>\n",
              "      <td>4.329832e+06</td>\n",
              "      <td>0.0</td>\n",
              "      <td>1.370089e+07</td>\n",
              "      <td>southeast</td>\n",
              "      <td>1131.50660</td>\n",
              "    </tr>\n",
              "    <tr>\n",
              "      <th>2</th>\n",
              "      <td>18.0</td>\n",
              "      <td>male</td>\n",
              "      <td>33.330</td>\n",
              "      <td>0.0</td>\n",
              "      <td>no</td>\n",
              "      <td>39023.62759</td>\n",
              "      <td>19.0</td>\n",
              "      <td>6.884861e+06</td>\n",
              "      <td>0.0</td>\n",
              "      <td>7.352311e+07</td>\n",
              "      <td>southeast</td>\n",
              "      <td>1135.94070</td>\n",
              "    </tr>\n",
              "    <tr>\n",
              "      <th>3</th>\n",
              "      <td>18.0</td>\n",
              "      <td>male</td>\n",
              "      <td>33.660</td>\n",
              "      <td>0.0</td>\n",
              "      <td>no</td>\n",
              "      <td>28185.39332</td>\n",
              "      <td>11.0</td>\n",
              "      <td>4.274774e+06</td>\n",
              "      <td>0.0</td>\n",
              "      <td>7.581968e+07</td>\n",
              "      <td>southeast</td>\n",
              "      <td>1136.39940</td>\n",
              "    </tr>\n",
              "    <tr>\n",
              "      <th>4</th>\n",
              "      <td>18.0</td>\n",
              "      <td>male</td>\n",
              "      <td>34.100</td>\n",
              "      <td>0.0</td>\n",
              "      <td>no</td>\n",
              "      <td>14697.85941</td>\n",
              "      <td>16.0</td>\n",
              "      <td>3.787294e+06</td>\n",
              "      <td>0.0</td>\n",
              "      <td>2.301232e+07</td>\n",
              "      <td>southeast</td>\n",
              "      <td>1137.01100</td>\n",
              "    </tr>\n",
              "    <tr>\n",
              "      <th>...</th>\n",
              "      <td>...</td>\n",
              "      <td>...</td>\n",
              "      <td>...</td>\n",
              "      <td>...</td>\n",
              "      <td>...</td>\n",
              "      <td>...</td>\n",
              "      <td>...</td>\n",
              "      <td>...</td>\n",
              "      <td>...</td>\n",
              "      <td>...</td>\n",
              "      <td>...</td>\n",
              "      <td>...</td>\n",
              "    </tr>\n",
              "    <tr>\n",
              "      <th>1041</th>\n",
              "      <td>24.0</td>\n",
              "      <td>female</td>\n",
              "      <td>27.600</td>\n",
              "      <td>0.0</td>\n",
              "      <td>no</td>\n",
              "      <td>27184.27803</td>\n",
              "      <td>9.0</td>\n",
              "      <td>1.266673e+07</td>\n",
              "      <td>1.0</td>\n",
              "      <td>3.743228e+08</td>\n",
              "      <td>southwest</td>\n",
              "      <td>18955.22017</td>\n",
              "    </tr>\n",
              "    <tr>\n",
              "      <th>1046</th>\n",
              "      <td>29.0</td>\n",
              "      <td>female</td>\n",
              "      <td>27.940</td>\n",
              "      <td>1.0</td>\n",
              "      <td>yes</td>\n",
              "      <td>51168.25474</td>\n",
              "      <td>23.0</td>\n",
              "      <td>1.665982e+07</td>\n",
              "      <td>1.0</td>\n",
              "      <td>3.712188e+08</td>\n",
              "      <td>southeast</td>\n",
              "      <td>19107.77960</td>\n",
              "    </tr>\n",
              "    <tr>\n",
              "      <th>1050</th>\n",
              "      <td>31.0</td>\n",
              "      <td>male</td>\n",
              "      <td>29.810</td>\n",
              "      <td>0.0</td>\n",
              "      <td>yes</td>\n",
              "      <td>24382.58056</td>\n",
              "      <td>21.0</td>\n",
              "      <td>1.028991e+07</td>\n",
              "      <td>1.0</td>\n",
              "      <td>3.745310e+08</td>\n",
              "      <td>southeast</td>\n",
              "      <td>19350.36890</td>\n",
              "    </tr>\n",
              "    <tr>\n",
              "      <th>1062</th>\n",
              "      <td>43.0</td>\n",
              "      <td>female</td>\n",
              "      <td>20.045</td>\n",
              "      <td>2.0</td>\n",
              "      <td>yes</td>\n",
              "      <td>21596.43846</td>\n",
              "      <td>10.0</td>\n",
              "      <td>1.083030e+07</td>\n",
              "      <td>1.0</td>\n",
              "      <td>3.696849e+08</td>\n",
              "      <td>northeast</td>\n",
              "      <td>19798.05455</td>\n",
              "    </tr>\n",
              "    <tr>\n",
              "      <th>1069</th>\n",
              "      <td>35.0</td>\n",
              "      <td>female</td>\n",
              "      <td>28.025</td>\n",
              "      <td>0.0</td>\n",
              "      <td>yes</td>\n",
              "      <td>17200.14586</td>\n",
              "      <td>15.0</td>\n",
              "      <td>1.247744e+07</td>\n",
              "      <td>1.0</td>\n",
              "      <td>3.696849e+08</td>\n",
              "      <td>northwest</td>\n",
              "      <td>20234.85475</td>\n",
              "    </tr>\n",
              "  </tbody>\n",
              "</table>\n",
              "<p>1025 rows × 12 columns</p>\n",
              "</div>"
            ],
            "text/plain": [
              "       age     sex     bmi  children smoker  Claim_Amount  past_consultations  \\\n",
              "0     18.0    male  23.210       0.0     no   29087.54313                17.0   \n",
              "1     18.0    male  30.140       0.0     no   39053.67437                 7.0   \n",
              "2     18.0    male  33.330       0.0     no   39023.62759                19.0   \n",
              "3     18.0    male  33.660       0.0     no   28185.39332                11.0   \n",
              "4     18.0    male  34.100       0.0     no   14697.85941                16.0   \n",
              "...    ...     ...     ...       ...    ...           ...                 ...   \n",
              "1041  24.0  female  27.600       0.0     no   27184.27803                 9.0   \n",
              "1046  29.0  female  27.940       1.0    yes   51168.25474                23.0   \n",
              "1050  31.0    male  29.810       0.0    yes   24382.58056                21.0   \n",
              "1062  43.0  female  20.045       2.0    yes   21596.43846                10.0   \n",
              "1069  35.0  female  28.025       0.0    yes   17200.14586                15.0   \n",
              "\n",
              "      Hospital_expenditure  NUmber_of_past_hospitalizations  Anual_Salary  \\\n",
              "0             4.720921e+06                              0.0  5.578497e+07   \n",
              "1             4.329832e+06                              0.0  1.370089e+07   \n",
              "2             6.884861e+06                              0.0  7.352311e+07   \n",
              "3             4.274774e+06                              0.0  7.581968e+07   \n",
              "4             3.787294e+06                              0.0  2.301232e+07   \n",
              "...                    ...                              ...           ...   \n",
              "1041          1.266673e+07                              1.0  3.743228e+08   \n",
              "1046          1.665982e+07                              1.0  3.712188e+08   \n",
              "1050          1.028991e+07                              1.0  3.745310e+08   \n",
              "1062          1.083030e+07                              1.0  3.696849e+08   \n",
              "1069          1.247744e+07                              1.0  3.696849e+08   \n",
              "\n",
              "         region      charges  \n",
              "0     southeast   1121.87390  \n",
              "1     southeast   1131.50660  \n",
              "2     southeast   1135.94070  \n",
              "3     southeast   1136.39940  \n",
              "4     southeast   1137.01100  \n",
              "...         ...          ...  \n",
              "1041  southwest  18955.22017  \n",
              "1046  southeast  19107.77960  \n",
              "1050  southeast  19350.36890  \n",
              "1062  northeast  19798.05455  \n",
              "1069  northwest  20234.85475  \n",
              "\n",
              "[1025 rows x 12 columns]"
            ]
          },
          "execution_count": 49,
          "metadata": {},
          "output_type": "execute_result"
        }
      ],
      "source": [
        "df"
      ]
    },
    {
      "cell_type": "code",
      "execution_count": null,
      "id": "b59c470c",
      "metadata": {
        "id": "b59c470c",
        "outputId": "45adc05a-c5cf-4689-9a5e-a29539fc55cc"
      },
      "outputs": [
        {
          "name": "stdout",
          "output_type": "stream",
          "text": [
            "                           Feature        VIF\n",
            "0                              age  14.890043\n",
            "1                              bmi  12.240954\n",
            "2                         children   2.017735\n",
            "3                     Claim_Amount   5.225668\n",
            "4               past_consultations   5.807256\n",
            "5             Hospital_expenditure   4.890602\n",
            "6  NUmber_of_past_hospitalizations  10.644865\n",
            "7                     Anual_Salary   5.493253\n"
          ]
        }
      ],
      "source": [
        "#vif\n",
        "from statsmodels.stats.outliers_influence import variance_inflation_factor\n",
        "col_list = []\n",
        "for col in df.columns:\n",
        "    if((df[col].dtype!=\"object\") & (col!='charges')): # only num cols expect targe\n",
        "        col_list.append(col)\n",
        "\n",
        "X = df[col_list]\n",
        "vif_data = pd.DataFrame()\n",
        "vif_data['Feature'] = X.columns\n",
        "vif_data['VIF'] = [variance_inflation_factor(X.values, i) for i in range(len(X.columns))]\n",
        "print(vif_data)"
      ]
    },
    {
      "cell_type": "code",
      "execution_count": null,
      "id": "cfe9566f",
      "metadata": {
        "id": "cfe9566f"
      },
      "outputs": [],
      "source": [
        "df = df.drop(['age'], axis=1)"
      ]
    },
    {
      "cell_type": "code",
      "execution_count": null,
      "id": "f5438f78",
      "metadata": {
        "id": "f5438f78",
        "outputId": "452c2820-905c-44ed-dc8e-26464a55b09c"
      },
      "outputs": [
        {
          "data": {
            "text/plain": [
              "(1025, 11)"
            ]
          },
          "execution_count": 52,
          "metadata": {},
          "output_type": "execute_result"
        }
      ],
      "source": [
        "df.shape"
      ]
    },
    {
      "cell_type": "code",
      "execution_count": null,
      "id": "66988bce",
      "metadata": {
        "id": "66988bce",
        "outputId": "2c1674e2-68e8-41e2-ec26-9d62a535a28d"
      },
      "outputs": [
        {
          "name": "stdout",
          "output_type": "stream",
          "text": [
            "                           Feature        VIF\n",
            "0                              bmi  10.375579\n",
            "1                         children   1.979830\n",
            "2                     Claim_Amount   5.207453\n",
            "3               past_consultations   5.786416\n",
            "4             Hospital_expenditure   4.890598\n",
            "5  NUmber_of_past_hospitalizations   8.310876\n",
            "6                     Anual_Salary   4.729083\n"
          ]
        }
      ],
      "source": [
        "#vif\n",
        "from statsmodels.stats.outliers_influence import variance_inflation_factor\n",
        "col_list = []\n",
        "for col in df.columns:\n",
        "    if((df[col].dtype!=\"object\") & (col!='charges')): # only num cols expect targe\n",
        "        col_list.append(col)\n",
        "\n",
        "X = df[col_list]\n",
        "vif_data = pd.DataFrame()\n",
        "vif_data['Feature'] = X.columns\n",
        "vif_data['VIF'] = [variance_inflation_factor(X.values, i) for i in range(len(X.columns))]\n",
        "print(vif_data)"
      ]
    },
    {
      "cell_type": "code",
      "execution_count": null,
      "id": "72eb7b17",
      "metadata": {
        "id": "72eb7b17"
      },
      "outputs": [],
      "source": [
        "df = df.drop(['bmi'], axis=1)"
      ]
    },
    {
      "cell_type": "code",
      "execution_count": null,
      "id": "c973570f",
      "metadata": {
        "id": "c973570f",
        "outputId": "64b41a16-ec42-4eb2-e44c-271a11573b4e"
      },
      "outputs": [
        {
          "data": {
            "text/plain": [
              "(1025, 10)"
            ]
          },
          "execution_count": 55,
          "metadata": {},
          "output_type": "execute_result"
        }
      ],
      "source": [
        "df.shape"
      ]
    },
    {
      "cell_type": "code",
      "execution_count": null,
      "id": "86d1e6e2",
      "metadata": {
        "id": "86d1e6e2",
        "outputId": "9039c5b0-f083-442f-929a-1ec7c3698d33"
      },
      "outputs": [
        {
          "name": "stdout",
          "output_type": "stream",
          "text": [
            "                           Feature       VIF\n",
            "0                         children  1.977411\n",
            "1                     Claim_Amount  4.533417\n",
            "2               past_consultations  5.015873\n",
            "3             Hospital_expenditure  4.441670\n",
            "4  NUmber_of_past_hospitalizations  7.301695\n",
            "5                     Anual_Salary  4.705283\n"
          ]
        }
      ],
      "source": [
        "#vif\n",
        "from statsmodels.stats.outliers_influence import variance_inflation_factor\n",
        "col_list = []\n",
        "for col in df.columns:\n",
        "    if((df[col].dtype!=\"object\") & (col!='charges')): # only num cols expect targe\n",
        "        col_list.append(col)\n",
        "\n",
        "X = df[col_list]\n",
        "vif_data = pd.DataFrame()\n",
        "vif_data['Feature'] = X.columns\n",
        "vif_data['VIF'] = [variance_inflation_factor(X.values, i) for i in range(len(X.columns))]\n",
        "print(vif_data)"
      ]
    },
    {
      "cell_type": "code",
      "execution_count": null,
      "id": "c09076a1",
      "metadata": {
        "id": "c09076a1"
      },
      "outputs": [],
      "source": [
        "df = df.drop(['NUmber_of_past_hospitalizations'], axis=1)"
      ]
    },
    {
      "cell_type": "code",
      "execution_count": null,
      "id": "f28b00fa",
      "metadata": {
        "id": "f28b00fa",
        "outputId": "e1a439f4-af34-48fb-864a-937bc1b3e529"
      },
      "outputs": [
        {
          "name": "stdout",
          "output_type": "stream",
          "text": [
            "                Feature       VIF\n",
            "0              children  1.710679\n",
            "1          Claim_Amount  4.154689\n",
            "2    past_consultations  4.647220\n",
            "3  Hospital_expenditure  4.264873\n",
            "4          Anual_Salary  4.261439\n"
          ]
        }
      ],
      "source": [
        "#vif\n",
        "from statsmodels.stats.outliers_influence import variance_inflation_factor\n",
        "col_list = []\n",
        "for col in df.columns:\n",
        "    if((df[col].dtype!=\"object\") & (col!='charges')): # only num cols expect targe\n",
        "        col_list.append(col)\n",
        "\n",
        "X = df[col_list]\n",
        "vif_data = pd.DataFrame()\n",
        "vif_data['Feature'] = X.columns\n",
        "vif_data['VIF'] = [variance_inflation_factor(X.values, i) for i in range(len(X.columns))]\n",
        "print(vif_data)"
      ]
    },
    {
      "cell_type": "code",
      "execution_count": null,
      "id": "daf325ee",
      "metadata": {
        "id": "daf325ee"
      },
      "outputs": [],
      "source": [
        "x = df.loc[:,['children','Claim_Amount','past_consultations','Hospital_expenditure','Anual_Salary']]\n",
        "y = df.iloc[:,-1]"
      ]
    },
    {
      "cell_type": "code",
      "execution_count": null,
      "id": "d32034e7",
      "metadata": {
        "id": "d32034e7"
      },
      "outputs": [],
      "source": [
        "#loc = column_name\n",
        "#iloc = index number"
      ]
    },
    {
      "cell_type": "code",
      "execution_count": null,
      "id": "0ce4a223",
      "metadata": {
        "id": "0ce4a223"
      },
      "outputs": [],
      "source": [
        "from sklearn.model_selection import train_test_split\n",
        "x_train, x_test, y_train, y_test = train_test_split(x,y, train_size=0.9, random_state=34)"
      ]
    },
    {
      "cell_type": "code",
      "execution_count": null,
      "id": "9ce07b6a",
      "metadata": {
        "id": "9ce07b6a",
        "outputId": "c6197583-2ef7-41a1-ee8d-bbbed76192ca"
      },
      "outputs": [
        {
          "data": {
            "text/html": [
              "<div>\n",
              "<style scoped>\n",
              "    .dataframe tbody tr th:only-of-type {\n",
              "        vertical-align: middle;\n",
              "    }\n",
              "\n",
              "    .dataframe tbody tr th {\n",
              "        vertical-align: top;\n",
              "    }\n",
              "\n",
              "    .dataframe thead th {\n",
              "        text-align: right;\n",
              "    }\n",
              "</style>\n",
              "<table border=\"1\" class=\"dataframe\">\n",
              "  <thead>\n",
              "    <tr style=\"text-align: right;\">\n",
              "      <th></th>\n",
              "      <th>children</th>\n",
              "      <th>Claim_Amount</th>\n",
              "      <th>past_consultations</th>\n",
              "      <th>Hospital_expenditure</th>\n",
              "      <th>Anual_Salary</th>\n",
              "    </tr>\n",
              "  </thead>\n",
              "  <tbody>\n",
              "    <tr>\n",
              "      <th>638</th>\n",
              "      <td>1.0</td>\n",
              "      <td>27901.99388</td>\n",
              "      <td>20.0</td>\n",
              "      <td>4.411947e+06</td>\n",
              "      <td>1.374768e+08</td>\n",
              "    </tr>\n",
              "    <tr>\n",
              "      <th>1009</th>\n",
              "      <td>1.0</td>\n",
              "      <td>35909.40412</td>\n",
              "      <td>13.0</td>\n",
              "      <td>1.113678e+07</td>\n",
              "      <td>3.058401e+08</td>\n",
              "    </tr>\n",
              "    <tr>\n",
              "      <th>781</th>\n",
              "      <td>2.0</td>\n",
              "      <td>32452.33321</td>\n",
              "      <td>9.0</td>\n",
              "      <td>5.539770e+06</td>\n",
              "      <td>1.934937e+08</td>\n",
              "    </tr>\n",
              "    <tr>\n",
              "      <th>66</th>\n",
              "      <td>0.0</td>\n",
              "      <td>17975.32767</td>\n",
              "      <td>14.0</td>\n",
              "      <td>4.993491e+05</td>\n",
              "      <td>5.445941e+07</td>\n",
              "    </tr>\n",
              "    <tr>\n",
              "      <th>81</th>\n",
              "      <td>0.0</td>\n",
              "      <td>18968.94393</td>\n",
              "      <td>18.0</td>\n",
              "      <td>1.259409e+06</td>\n",
              "      <td>4.385989e+07</td>\n",
              "    </tr>\n",
              "    <tr>\n",
              "      <th>...</th>\n",
              "      <td>...</td>\n",
              "      <td>...</td>\n",
              "      <td>...</td>\n",
              "      <td>...</td>\n",
              "      <td>...</td>\n",
              "    </tr>\n",
              "    <tr>\n",
              "      <th>326</th>\n",
              "      <td>1.0</td>\n",
              "      <td>20289.87087</td>\n",
              "      <td>11.0</td>\n",
              "      <td>5.087206e+06</td>\n",
              "      <td>7.255715e+07</td>\n",
              "    </tr>\n",
              "    <tr>\n",
              "      <th>86</th>\n",
              "      <td>0.0</td>\n",
              "      <td>33199.89168</td>\n",
              "      <td>15.0</td>\n",
              "      <td>8.498848e+05</td>\n",
              "      <td>3.620603e+07</td>\n",
              "    </tr>\n",
              "    <tr>\n",
              "      <th>763</th>\n",
              "      <td>0.0</td>\n",
              "      <td>18094.64393</td>\n",
              "      <td>20.0</td>\n",
              "      <td>1.052415e+07</td>\n",
              "      <td>1.393229e+08</td>\n",
              "    </tr>\n",
              "    <tr>\n",
              "      <th>879</th>\n",
              "      <td>1.0</td>\n",
              "      <td>21185.01729</td>\n",
              "      <td>17.0</td>\n",
              "      <td>3.058305e+06</td>\n",
              "      <td>1.872166e+08</td>\n",
              "    </tr>\n",
              "    <tr>\n",
              "      <th>492</th>\n",
              "      <td>0.0</td>\n",
              "      <td>23707.35321</td>\n",
              "      <td>5.0</td>\n",
              "      <td>9.398373e+06</td>\n",
              "      <td>8.412306e+07</td>\n",
              "    </tr>\n",
              "  </tbody>\n",
              "</table>\n",
              "<p>820 rows × 5 columns</p>\n",
              "</div>"
            ],
            "text/plain": [
              "      children  Claim_Amount  past_consultations  Hospital_expenditure  \\\n",
              "638        1.0   27901.99388                20.0          4.411947e+06   \n",
              "1009       1.0   35909.40412                13.0          1.113678e+07   \n",
              "781        2.0   32452.33321                 9.0          5.539770e+06   \n",
              "66         0.0   17975.32767                14.0          4.993491e+05   \n",
              "81         0.0   18968.94393                18.0          1.259409e+06   \n",
              "...        ...           ...                 ...                   ...   \n",
              "326        1.0   20289.87087                11.0          5.087206e+06   \n",
              "86         0.0   33199.89168                15.0          8.498848e+05   \n",
              "763        0.0   18094.64393                20.0          1.052415e+07   \n",
              "879        1.0   21185.01729                17.0          3.058305e+06   \n",
              "492        0.0   23707.35321                 5.0          9.398373e+06   \n",
              "\n",
              "      Anual_Salary  \n",
              "638   1.374768e+08  \n",
              "1009  3.058401e+08  \n",
              "781   1.934937e+08  \n",
              "66    5.445941e+07  \n",
              "81    4.385989e+07  \n",
              "...            ...  \n",
              "326   7.255715e+07  \n",
              "86    3.620603e+07  \n",
              "763   1.393229e+08  \n",
              "879   1.872166e+08  \n",
              "492   8.412306e+07  \n",
              "\n",
              "[820 rows x 5 columns]"
            ]
          },
          "execution_count": 63,
          "metadata": {},
          "output_type": "execute_result"
        }
      ],
      "source": [
        "x_train"
      ]
    },
    {
      "cell_type": "code",
      "execution_count": null,
      "id": "811ed135",
      "metadata": {
        "id": "811ed135",
        "outputId": "bcc88262-e40b-433a-9a0d-f3f95d4bcea2"
      },
      "outputs": [
        {
          "data": {
            "text/plain": [
              "309     4462.72180\n",
              "304     4435.09420\n",
              "570     8017.06115\n",
              "590     8277.52300\n",
              "976    14692.66935\n",
              "          ...     \n",
              "394     5425.02335\n",
              "531     7345.08400\n",
              "42      1639.56310\n",
              "812    11538.42100\n",
              "165     2709.11190\n",
              "Name: charges, Length: 205, dtype: float64"
            ]
          },
          "execution_count": 64,
          "metadata": {},
          "output_type": "execute_result"
        }
      ],
      "source": [
        "y_test"
      ]
    },
    {
      "cell_type": "code",
      "execution_count": null,
      "id": "ced55f44",
      "metadata": {
        "id": "ced55f44"
      },
      "outputs": [],
      "source": [
        "from sklearn.linear_model import LinearRegression\n",
        "l_model = LinearRegression()  # LINEAR REGRESSION CLASS"
      ]
    },
    {
      "cell_type": "code",
      "execution_count": null,
      "id": "4a61654e",
      "metadata": {
        "id": "4a61654e",
        "outputId": "cb67a8ab-0375-4bf7-bcc1-a27df54b21c1"
      },
      "outputs": [
        {
          "data": {
            "text/plain": [
              "LinearRegression()"
            ]
          },
          "execution_count": 67,
          "metadata": {},
          "output_type": "execute_result"
        }
      ],
      "source": [
        "l_model.fit(x_train, y_train) # TRAINING OUR MODEL"
      ]
    },
    {
      "cell_type": "code",
      "execution_count": null,
      "id": "ad5761a7",
      "metadata": {
        "id": "ad5761a7"
      },
      "outputs": [],
      "source": [
        "#predict\n",
        "y_pred = l_model.predict(x_test)"
      ]
    },
    {
      "cell_type": "code",
      "execution_count": null,
      "id": "db537b30",
      "metadata": {
        "id": "db537b30",
        "outputId": "01993aba-f7d1-496e-8151-46b544e4b71e"
      },
      "outputs": [
        {
          "data": {
            "text/plain": [
              "array([ 6136.53960623,  5607.09024767,  7330.74726377,  6970.79103285,\n",
              "       12963.41846912,  3768.10812527,  6303.52800032,  6859.72060677,\n",
              "        3997.5712139 ,  8323.49978521, 13295.46037003,  1717.04465282,\n",
              "        4184.59811679, 10527.70919715,  5552.40047196,  6935.56595793,\n",
              "       11347.18647542,  7414.02429271,  3620.78683432, 12420.85970932,\n",
              "        8160.82156175, 10284.90179683,  6019.93120824,  2709.43157972,\n",
              "        7288.3996215 ,  7229.70699172,  8518.47388031,  5602.77427154,\n",
              "        7379.50986043,  9682.42448071,  5333.70422809,  2216.10855576,\n",
              "       12339.29547916,  3532.90885486,  3171.28551441,  2408.59823999,\n",
              "        3073.47973207,  6291.82610977,  4246.6958852 ,  6361.30253716,\n",
              "        9841.3983951 ,  1412.98408465,  2808.64718043,  4770.57005965,\n",
              "        9573.19286613,  6715.25280026,  9455.18426655,  8936.34100338,\n",
              "       12563.67496354,  9633.4924695 ,  6342.08530082,  2236.10130177,\n",
              "       10414.09869597, 16918.29638089,  5079.37867219,  7780.22319867,\n",
              "        5856.05003615, 10502.0100819 ,  3693.65343906, 12534.69436092,\n",
              "        8314.98487586,  7299.62196589,  8470.03451131,  8605.34978285,\n",
              "       12904.34455493, 11394.23258541,  4212.81295312,  7462.75107792,\n",
              "       11691.20731651,  2968.44540068,  7554.25108623,  2101.67375935,\n",
              "        5264.70161573,  8467.240569  ,  6111.92730797,  8686.78030428,\n",
              "       10837.30175683, 16276.15638717,  8031.73171733,  7136.59423118,\n",
              "        2600.96667142, 10810.12485235, 11641.88781993, 10305.24867734,\n",
              "        1712.2540351 ,  6144.09093697,  5959.53376193,  8029.5192902 ,\n",
              "       13388.37270151,  1605.26291733,  7148.22990354,  9930.54185417,\n",
              "       15982.48087117,  7104.75345808, 10461.58366417,  6585.07111604,\n",
              "       10188.82274245, 11050.31165016, 12019.45754655, 10604.23112326,\n",
              "        7615.11199786,  9710.42547951,  5367.08807607, 15500.39519804,\n",
              "        4454.68008852,  6326.48532846,  4618.17295694,  3784.90998427,\n",
              "        3477.2536291 , 12277.34921014,  9198.75368575,  8738.65114312,\n",
              "        9453.42594208,  6586.42059623, 18442.70395395,  5352.08324855,\n",
              "        9185.98904324,  5573.4194317 , 10727.47789156, 12671.41940318,\n",
              "        5018.91335222,  9600.52835261,  7245.68204814,  8311.81125703,\n",
              "        6366.31933423,  8429.84379952,  8397.76608249,  6096.97986248,\n",
              "        2480.47973178,  3402.65312029,  3375.95591731, 12480.10777441,\n",
              "        6720.92145582, 12431.21588783,  7377.0501823 ,  3892.7040603 ,\n",
              "        5738.80393669, 13554.4142224 ,  7031.70437192, 14420.86683724,\n",
              "        4195.85133904, 11411.06200368,  4692.80425142,  3382.50112973,\n",
              "        6303.13798803, 10201.49154395,  7776.88508632,  9677.41422289,\n",
              "        5948.87415183,  5834.91099424,  4558.182146  , 10248.64387272,\n",
              "       14694.02234575, 10346.84219896,  5032.31937766,  5658.98380821,\n",
              "       18899.0711437 ,  8829.37847165,  4600.12185651, 11331.5413143 ,\n",
              "        1521.93784396,  9325.0080825 ,  7123.02110994,  3044.59940478,\n",
              "       17808.20444776,  5008.09297169,  9614.28427188,  8921.65626639,\n",
              "        3400.93515654,  5571.43723413,  5321.84702099,  5318.49189602,\n",
              "        5418.04917136, 10338.39011018,  6141.69831155, 11381.79249414,\n",
              "        6263.54417388,  5520.42258551,  6817.6121035 ,  3567.592226  ,\n",
              "        3998.04314897,  4925.10891694, 18723.0200527 ,  9919.36095156,\n",
              "       13556.22092152,  8162.63405588,  8370.67552914,  9983.96859862,\n",
              "       16032.05204034,  9136.22119018,  7142.75616966,  8224.33568605,\n",
              "       10543.58036318,  5408.45310753,  9101.82981581,  2397.34220307,\n",
              "        4446.08471096,  1907.6111115 , 16015.79996786,  5128.23665368,\n",
              "        5555.85132484,  8820.16735411,  3160.91616695,  9799.11792757,\n",
              "        5477.8889117 ])"
            ]
          },
          "execution_count": 69,
          "metadata": {},
          "output_type": "execute_result"
        }
      ],
      "source": [
        "y_pred"
      ]
    },
    {
      "cell_type": "code",
      "execution_count": null,
      "id": "5d1ca586",
      "metadata": {
        "id": "5d1ca586"
      },
      "outputs": [],
      "source": [
        "error_pred = pd.DataFrame(columns = {'Actual_data', 'Prediction_data'})"
      ]
    },
    {
      "cell_type": "code",
      "execution_count": null,
      "id": "52af4d14",
      "metadata": {
        "id": "52af4d14",
        "outputId": "82972f1e-0b1e-4b4a-ca37-60e63d4e8110"
      },
      "outputs": [
        {
          "data": {
            "text/html": [
              "<div>\n",
              "<style scoped>\n",
              "    .dataframe tbody tr th:only-of-type {\n",
              "        vertical-align: middle;\n",
              "    }\n",
              "\n",
              "    .dataframe tbody tr th {\n",
              "        vertical-align: top;\n",
              "    }\n",
              "\n",
              "    .dataframe thead th {\n",
              "        text-align: right;\n",
              "    }\n",
              "</style>\n",
              "<table border=\"1\" class=\"dataframe\">\n",
              "  <thead>\n",
              "    <tr style=\"text-align: right;\">\n",
              "      <th></th>\n",
              "      <th>Actual_data</th>\n",
              "      <th>Prediction_data</th>\n",
              "    </tr>\n",
              "  </thead>\n",
              "  <tbody>\n",
              "  </tbody>\n",
              "</table>\n",
              "</div>"
            ],
            "text/plain": [
              "Empty DataFrame\n",
              "Columns: [Actual_data, Prediction_data]\n",
              "Index: []"
            ]
          },
          "execution_count": 71,
          "metadata": {},
          "output_type": "execute_result"
        }
      ],
      "source": [
        "error_pred"
      ]
    },
    {
      "cell_type": "code",
      "execution_count": null,
      "id": "ddeb8a4f",
      "metadata": {
        "id": "ddeb8a4f"
      },
      "outputs": [],
      "source": [
        "error_pred['Actual_data'] = y_test"
      ]
    },
    {
      "cell_type": "code",
      "execution_count": null,
      "id": "087c1acf",
      "metadata": {
        "id": "087c1acf"
      },
      "outputs": [],
      "source": [
        "error_pred['Prediction_data'] = y_pred"
      ]
    },
    {
      "cell_type": "code",
      "execution_count": null,
      "id": "5d16f63d",
      "metadata": {
        "id": "5d16f63d",
        "outputId": "f1c6b39d-e276-43f9-9f37-7127fb7f7cba"
      },
      "outputs": [
        {
          "data": {
            "text/html": [
              "<div>\n",
              "<style scoped>\n",
              "    .dataframe tbody tr th:only-of-type {\n",
              "        vertical-align: middle;\n",
              "    }\n",
              "\n",
              "    .dataframe tbody tr th {\n",
              "        vertical-align: top;\n",
              "    }\n",
              "\n",
              "    .dataframe thead th {\n",
              "        text-align: right;\n",
              "    }\n",
              "</style>\n",
              "<table border=\"1\" class=\"dataframe\">\n",
              "  <thead>\n",
              "    <tr style=\"text-align: right;\">\n",
              "      <th></th>\n",
              "      <th>Actual_data</th>\n",
              "      <th>Prediction_data</th>\n",
              "    </tr>\n",
              "  </thead>\n",
              "  <tbody>\n",
              "    <tr>\n",
              "      <th>309</th>\n",
              "      <td>4462.72180</td>\n",
              "      <td>6136.539606</td>\n",
              "    </tr>\n",
              "    <tr>\n",
              "      <th>304</th>\n",
              "      <td>4435.09420</td>\n",
              "      <td>5607.090248</td>\n",
              "    </tr>\n",
              "    <tr>\n",
              "      <th>570</th>\n",
              "      <td>8017.06115</td>\n",
              "      <td>7330.747264</td>\n",
              "    </tr>\n",
              "    <tr>\n",
              "      <th>590</th>\n",
              "      <td>8277.52300</td>\n",
              "      <td>6970.791033</td>\n",
              "    </tr>\n",
              "    <tr>\n",
              "      <th>976</th>\n",
              "      <td>14692.66935</td>\n",
              "      <td>12963.418469</td>\n",
              "    </tr>\n",
              "    <tr>\n",
              "      <th>...</th>\n",
              "      <td>...</td>\n",
              "      <td>...</td>\n",
              "    </tr>\n",
              "    <tr>\n",
              "      <th>394</th>\n",
              "      <td>5425.02335</td>\n",
              "      <td>5555.851325</td>\n",
              "    </tr>\n",
              "    <tr>\n",
              "      <th>531</th>\n",
              "      <td>7345.08400</td>\n",
              "      <td>8820.167354</td>\n",
              "    </tr>\n",
              "    <tr>\n",
              "      <th>42</th>\n",
              "      <td>1639.56310</td>\n",
              "      <td>3160.916167</td>\n",
              "    </tr>\n",
              "    <tr>\n",
              "      <th>812</th>\n",
              "      <td>11538.42100</td>\n",
              "      <td>9799.117928</td>\n",
              "    </tr>\n",
              "    <tr>\n",
              "      <th>165</th>\n",
              "      <td>2709.11190</td>\n",
              "      <td>5477.888912</td>\n",
              "    </tr>\n",
              "  </tbody>\n",
              "</table>\n",
              "<p>205 rows × 2 columns</p>\n",
              "</div>"
            ],
            "text/plain": [
              "     Actual_data  Prediction_data\n",
              "309   4462.72180      6136.539606\n",
              "304   4435.09420      5607.090248\n",
              "570   8017.06115      7330.747264\n",
              "590   8277.52300      6970.791033\n",
              "976  14692.66935     12963.418469\n",
              "..           ...              ...\n",
              "394   5425.02335      5555.851325\n",
              "531   7345.08400      8820.167354\n",
              "42    1639.56310      3160.916167\n",
              "812  11538.42100      9799.117928\n",
              "165   2709.11190      5477.888912\n",
              "\n",
              "[205 rows x 2 columns]"
            ]
          },
          "execution_count": 74,
          "metadata": {},
          "output_type": "execute_result"
        }
      ],
      "source": [
        "error_pred"
      ]
    },
    {
      "cell_type": "code",
      "execution_count": null,
      "id": "22b18c6d",
      "metadata": {
        "id": "22b18c6d"
      },
      "outputs": [],
      "source": [
        "from sklearn.metrics import *"
      ]
    },
    {
      "cell_type": "code",
      "execution_count": null,
      "id": "9f839c68",
      "metadata": {
        "id": "9f839c68",
        "outputId": "cf4d8913-50e4-433d-d955-abf1457801ae"
      },
      "outputs": [
        {
          "data": {
            "text/plain": [
              "0.7253772988726754"
            ]
          },
          "execution_count": 76,
          "metadata": {},
          "output_type": "execute_result"
        }
      ],
      "source": [
        "accuracy = r2_score(y_test, y_pred)\n",
        "accuracy"
      ]
    },
    {
      "cell_type": "code",
      "execution_count": null,
      "id": "5b30ec92",
      "metadata": {
        "id": "5b30ec92"
      },
      "outputs": [],
      "source": []
    }
  ],
  "metadata": {
    "kernelspec": {
      "display_name": "Python 3 (ipykernel)",
      "language": "python",
      "name": "python3"
    },
    "language_info": {
      "codemirror_mode": {
        "name": "ipython",
        "version": 3
      },
      "file_extension": ".py",
      "mimetype": "text/x-python",
      "name": "python",
      "nbconvert_exporter": "python",
      "pygments_lexer": "ipython3",
      "version": "3.9.12"
    },
    "colab": {
      "provenance": [],
      "include_colab_link": true
    }
  },
  "nbformat": 4,
  "nbformat_minor": 5
}